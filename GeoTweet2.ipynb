{
  "nbformat": 4,
  "nbformat_minor": 5,
  "metadata": {
    "colab": {
      "name": "GeoTweet2.ipynb",
      "provenance": [],
      "collapsed_sections": [],
      "include_colab_link": true
    },
    "kernelspec": {
      "display_name": "Python 3",
      "language": "python",
      "name": "python3"
    },
    "language_info": {
      "codemirror_mode": {
        "name": "ipython",
        "version": 3
      },
      "file_extension": ".py",
      "mimetype": "text/x-python",
      "name": "python",
      "nbconvert_exporter": "python",
      "pygments_lexer": "ipython3",
      "version": "3.8.5"
    }
  },
  "cells": [
    {
      "cell_type": "markdown",
      "metadata": {
        "id": "view-in-github",
        "colab_type": "text"
      },
      "source": [
        "<a href=\"https://colab.research.google.com/github/Developernation/Algos/blob/master/GeoTweet2.ipynb\" target=\"_parent\"><img src=\"https://colab.research.google.com/assets/colab-badge.svg\" alt=\"Open In Colab\"/></a>"
      ]
    },
    {
      "cell_type": "code",
      "metadata": {
        "id": "26b1c03b-da25-41c0-af98-1984349f2fab"
      },
      "source": [
        "import sys\n",
        "import subprocess\n",
        "import pkg_resources\n",
        "\n",
        "required = {'wikimapia_api', \n",
        "            'tweepy',\n",
        "            'requests',\n",
        "            'pandas',\n",
        "            'geopy',\n",
        "            'folium',\n",
        "            'matplotlib'}\n",
        "installed = {pkg.key for pkg in pkg_resources.working_set}\n",
        "missing = required - installed\n",
        "\n",
        "if missing:\n",
        "    python = sys.executable\n",
        "    subprocess.check_call([python, '-m', 'pip', 'install', *missing], stdout=subprocess.DEVNULL)\n",
        "import pandas as pd\n",
        "from itertools import chain\n",
        "import configparser\n",
        "import os\n",
        "from geopy.geocoders import Nominatim\n",
        "from geopy.extra.rate_limiter import RateLimiter\n",
        "import folium\n",
        "from folium.plugins import MarkerCluster\n",
        "from typing import List\n",
        "import re\n",
        "import time\n",
        "import random\n",
        "import tweepy as tpy\n",
        "pd.set_option('display.max_rows', 500) \n",
        "pd.set_option('max_colwidth', 400)\n",
        "geolocator = Nominatim(user_agent=\"GeoTweet\")"
      ],
      "id": "26b1c03b-da25-41c0-af98-1984349f2fab",
      "execution_count": null,
      "outputs": []
    },
    {
      "cell_type": "code",
      "metadata": {
        "id": "37c1f782"
      },
      "source": [
        "#utility functions to set up keystore\n",
        "def write_config(section:str,section_key:str,val:str,ini_file_name='keystore.ini',file_action='w') -> int:\n",
        "    \"\"\"\n",
        "      This is a utility function to help create config files \n",
        "      for api keys. \n",
        "\n",
        "      Parameters (required):\n",
        "      section - this is the section of the config file that you'd \n",
        "                like to create or add to. \n",
        "      section_key - this is the key holding the api key in a section. \n",
        "      val - this is the api key\n",
        "      ini_file_name - this is the config file name.  It should end with \n",
        "                .ini \n",
        "      file_action - this can be write (w) or append (a)\n",
        "      Example:\n",
        "        write_config('GOVDATA','BEA','<your API key>','econ_data_api_config.ini')\n",
        "\n",
        "      docs: https://docs.python.org/3/library/configparser.html\n",
        "    \"\"\"\n",
        "    config = configparser.RawConfigParser()\n",
        " \n",
        "    config.read(ini_file_name) \n",
        "    if section in config.sections():\n",
        "        print(f'section: {section} already exists')\n",
        "        curr_section_keys = [*config[section].keys()]\n",
        "        if section_key in curr_section_keys:      \n",
        "            resp = input(f'section key: {section_key} already exists. Would you like to overwrite? (Y/N)').lower()\n",
        "            if resp == 'y' or resp == 'yes':\n",
        "                print('Overwriting section key...')\n",
        "                config.set(section, section_key, re.escape(val))\n",
        "                print('Overwriting complete....')\n",
        "            else:\n",
        "                print('Overwriting canceled....')\n",
        "        else:\n",
        "            config.set(section, section_key, re.escape(val))\n",
        "    else:\n",
        "        config.add_section(section)\n",
        "        config.set(section, section_key, re.escape(val))\n",
        "    with open(ini_file_name, 'w') as configfile:\n",
        "        config.write(configfile)\n",
        "        \n",
        "    return 0\n",
        "\n",
        "def show_config_file_sections(config_doc:str)->List[str]:\n",
        "    \"\"\"\n",
        "    Utility function to show the section headings and keys\n",
        "    of config file.\n",
        "    \"\"\"\n",
        "    config = configparser.ConfigParser()\n",
        "    config.read(config_doc)\n",
        "    return {sect: [*config[sect].keys()] for sect in config.sections()}\n",
        "\n",
        "\n",
        "def read_config(config_file_name:str,\n",
        "                config_section:str,\n",
        "                config_key:str,\n",
        "               file_name=False) -> str:\n",
        "    \"\"\"\n",
        "    utility function to get the values from the keys in a config file.\n",
        "    \"\"\"\n",
        "    config = configparser.RawConfigParser()\n",
        "    config.read(config_file_name)\n",
        "    if file_name:\n",
        "        return config[config_section][config_key]\n",
        "    else:\n",
        "        return config[config_section][config_key].replace('\\\\','')\n",
        "# --------------------------------------------------------------------------------------------------------------------\n",
        "def get_wikimapia_category_map():\n",
        "    return {\n",
        "    'school':203,\n",
        "    'military':516,\n",
        "    'university':84,\n",
        "    'park':84,\n",
        "    'marketplace':1507\n",
        "}\n",
        "\n",
        "def get_address_to_coords(addr,default_value:str):\n",
        "    location_ = geolocator.geocode(addr)\n",
        "    if location_ == None:\n",
        "        location_ = geolocator.geocode(default_value)\n",
        "        print(f'***Found bad value:{addr} replacing with default value {default_value}***')\n",
        "        return  {'title':default_value,'loc_data':[location_.latitude,location_.longitude]}\n",
        "    time.sleep(2) #rate limiter\n",
        "    return {'title':addr,'loc_data':[location_.latitude,location_.longitude]}\n",
        "    \n",
        "def get_nearest_places_dict(place_type:str,coords_list_of_lists:list):\n",
        "    \"\"\"place type from get_wikimapia_category_map()\"\"\"\n",
        "    nearest_places_list_of_dicts = []\n",
        "    for coords_list in coords_list_of_lists:\n",
        "        print(coords_list[1],coords_list[0])\n",
        "        for loc in list(API.places.nearest(coords_list[1],\n",
        "                                           coords_list[0],\n",
        "                                           category=get_wikimapia_category_map()[place_type])):\n",
        "            nearest_places_list_of_dicts.append({'id':loc.get('id'),\n",
        "                                                 'title':loc.get('title') ,\n",
        "                                                 'loc_data':[loc['location'].get('lat'),\n",
        "                                                             loc['location'].get('lon')]})\n",
        "    return nearest_places_list_of_dicts\n",
        "\n",
        "def make_folium_map(point_of_interest_coords_list_of_dicts,#from get_address_to_coords\n",
        "                    tweets_coords_list_of_dicts, #list of coords from tweets for clustering\n",
        "                    map_type=\"OpenStreetMap\",zoom_level=15,\n",
        "                    point_of_interest_icon_color='green',\n",
        "                    tweet_icon_color = 'red'\n",
        "                   ):\n",
        "    \n",
        "    map_= folium.Map(location=point_of_interest_coords_list_of_dicts[0]['loc_data'],tiles=map_type)\n",
        "    \n",
        "    for point_of_interest_coords_dict in point_of_interest_coords_list_of_dicts:\n",
        "        folium.Marker(\n",
        "            location=point_of_interest_coords_dict['loc_data'],\n",
        "            tooltip = point_of_interest_coords_dict['title'],\n",
        "            icon=folium.Icon(color=point_of_interest_icon_color),\n",
        "            default_zoom_start= zoom_level\n",
        "        ).add_to(map_)\n",
        "     \n",
        "    lat_shift = 0\n",
        "    long_shift = 0\n",
        "    for data_dict in tweets_coords_list_of_dicts: \n",
        "        loc_info = [data_dict['loc_data'][0]+random.randrange(1,100)*.0001,\n",
        "         data_dict['loc_data'][1]+random.randrange(1,100)*.0001]\n",
        "        folium.Marker(\n",
        "            location=loc_info,\n",
        "            tooltip = data_dict['tweet_text'],\n",
        "            icon=folium.Icon(color=tweet_icon_color ),\n",
        "        ).add_to(map_)            \n",
        "    return map_"
      ],
      "id": "37c1f782",
      "execution_count": null,
      "outputs": []
    },
    {
      "cell_type": "markdown",
      "metadata": {
        "id": "aMKZw5Uh3qMl"
      },
      "source": [
        "### Start-up Directions\n",
        "1. Read through the code so you understand what it is doing.  \n",
        "2. Copy this notebook into your google drive or onto your computer.\n",
        "3. Get API keys for Twitter (comsumer key, consumer secret, access token and access secret)\n",
        "4. Get API keys for Wikimapia (there's just one)\n",
        "5. Store your keys securely on your device (not in gdrive)\n",
        "5. Use the write_config function to write your keys to a temp ini file so you don't store them in your copied version of this notebook. You can use the default file name of keystore.ini or your can make your own but I recomment just using the default and deleting the file if you're using gdrive. \n",
        "6. Run the notebook and have fun! Please provide feedback if you have any. \n",
        "\n"
      ],
      "id": "aMKZw5Uh3qMl"
    },
    {
      "cell_type": "markdown",
      "metadata": {
        "id": "d8ee9693"
      },
      "source": [
        "### <center>Please be sure to read the information in each cell before running it.</center>"
      ],
      "id": "d8ee9693"
    },
    {
      "cell_type": "code",
      "metadata": {
        "id": "ddaa2773"
      },
      "source": [
        "#use this function to write your api keys to the config file. The defualt is set to keystore.ini\n",
        "write_config('<your section of the config>','<name of the api key>','<your api key>')"
      ],
      "id": "ddaa2773",
      "execution_count": null,
      "outputs": []
    },
    {
      "cell_type": "code",
      "metadata": {
        "id": "nh3LN6Ar5hOZ"
      },
      "source": [
        "#if you make a mistake and you need to delete the keystore.ini file run this cell\n",
        "!rm keystore.ini"
      ],
      "id": "nh3LN6Ar5hOZ",
      "execution_count": null,
      "outputs": []
    },
    {
      "cell_type": "code",
      "metadata": {
        "id": "d9682308"
      },
      "source": [
        "#you'll need to use the write_config() function to set up your keystore file once you have api keys\n",
        "show_config_file_sections('keystore.ini')"
      ],
      "id": "d9682308",
      "execution_count": null,
      "outputs": []
    },
    {
      "cell_type": "code",
      "metadata": {
        "id": "6108f5b9"
      },
      "source": [
        "#accessing Twitter's api\n",
        "auth = tpy.OAuthHandler(read_config('keystore.ini','TWITTER', 'consumer_key'),\n",
        "                        read_config('keystore.ini','TWITTER', 'consumer_secret'))\n",
        "api = tpy.API(auth)\n",
        "auth.set_access_token(read_config('keystore.ini','TWITTER', 'access_token'), \n",
        "                      read_config('keystore.ini','TWITTER', 'access_secret'))\n",
        "\n",
        "def limit_handled(cursor):\n",
        "    while True:\n",
        "        try:\n",
        "            yield cursor.next()\n",
        "        except StopIteration:\n",
        "            break\n",
        "        except tpy.RateLimitError:\n",
        "            time.sleep(15 * 60)"
      ],
      "id": "6108f5b9",
      "execution_count": null,
      "outputs": []
    },
    {
      "cell_type": "markdown",
      "metadata": {
        "id": "b6151676-01bd-4325-8cf6-4e405987d1dd"
      },
      "source": [
        "# <center>Part 1:Getting Geo-Coords</center>\n"
      ],
      "id": "b6151676-01bd-4325-8cf6-4e405987d1dd"
    },
    {
      "cell_type": "markdown",
      "metadata": {
        "id": "91a298c0"
      },
      "source": [
        "## Set your place of interest and get coords"
      ],
      "id": "91a298c0"
    },
    {
      "cell_type": "code",
      "metadata": {
        "id": "9854cde0"
      },
      "source": [
        "################################################################################\n",
        "#Add your locations to the list below, you can add as many as you like.        #\n",
        "#Feel free to remove NYC if you're not interested in that location             #\n",
        "################################################################################\n",
        "addrs_list = [\"NYC\"]"
      ],
      "id": "9854cde0",
      "execution_count": null,
      "outputs": []
    },
    {
      "cell_type": "code",
      "metadata": {
        "id": "0ac47f33",
        "outputId": "88072f8e-0246-436b-c504-11e283a2b6e5"
      },
      "source": [
        "poi_data_list_of_dicts =  [get_address_to_coords(addr,default_value=addrs_list[0]) for addr in addrs_list]\n",
        "poi_data_list_of_dicts"
      ],
      "id": "0ac47f33",
      "execution_count": null,
      "outputs": [
        {
          "output_type": "execute_result",
          "data": {
            "text/plain": [
              "[{'title': 'NYC', 'loc_data': [40.7127281, -74.0060152]}]"
            ]
          },
          "metadata": {
            "tags": []
          },
          "execution_count": 7
        }
      ]
    },
    {
      "cell_type": "code",
      "metadata": {
        "id": "e48756e3"
      },
      "source": [
        "#################################################################################\n",
        "#Point of Interest Geocodes for Twitter                                         #\n",
        "## You can change the radius to search for tweets here but be aware that it will#\n",
        "## increase the amount of data you will get                                     #\n",
        "#################################################################################\n",
        "radius = '10'\n",
        "poi_gcode_list= [f\"{','.join(list(map(str,poi_data_dict['loc_data'])))},{radius}km\" for poi_data_dict in poi_data_list_of_dicts]"
      ],
      "id": "e48756e3",
      "execution_count": null,
      "outputs": []
    },
    {
      "cell_type": "markdown",
      "metadata": {
        "id": "02b5311d"
      },
      "source": [
        "## Get Tweets near the nearest places of interest"
      ],
      "id": "02b5311d"
    },
    {
      "cell_type": "code",
      "metadata": {
        "id": "da12290f",
        "outputId": "e031830d-2eb1-4b46-c8b8-4467404c944b"
      },
      "source": [
        "################################################################################\n",
        "#You can change the number of Tweets per location you'd like to retrieve below #\n",
        "#You can also add your search query.  To do a general Tweet search enter \"*\".  #\n",
        "################################################################################\n",
        "number_of_tweets_to_get = 10\n",
        "search_query = \"*\"\n",
        "\n",
        "#------------------------------------------------------------------------------\n",
        "tweet_df = pd.concat([pd.DataFrame(\n",
        "[    {'creation_date':tweet.created_at,\n",
        "           'text':tweet.text,\n",
        "           'hashtags':tweet.entities.get('hashtags'),\n",
        "           'user_name':tweet.user.name,\n",
        "           'screen_name':tweet.user.screen_name,\n",
        "          'user_id':tweet.user.id,\n",
        "      'geo':tweet.geo,\n",
        "      'coords':tweet.coordinates,\n",
        "      'place':tweet.place,\n",
        "      'entities':tweet.user.entities,\n",
        "      'location':tweet.user.location,\n",
        "      'protected_status':tweet.user.protected,\n",
        "      'geo_enabled':tweet.user.geo_enabled\n",
        "             } \n",
        " for tweet in limit_handled(tpy.Cursor(\n",
        "     api.search,q=search_query,count=number_of_tweets_to_get,geocode=gcode).items(number_of_tweets_to_get))] \n",
        ") for gcode in poi_gcode_list]).reset_index(drop=True)\n",
        "tweet_df.head()"
      ],
      "id": "da12290f",
      "execution_count": null,
      "outputs": [
        {
          "output_type": "execute_result",
          "data": {
            "text/html": [
              "<div>\n",
              "<style scoped>\n",
              "    .dataframe tbody tr th:only-of-type {\n",
              "        vertical-align: middle;\n",
              "    }\n",
              "\n",
              "    .dataframe tbody tr th {\n",
              "        vertical-align: top;\n",
              "    }\n",
              "\n",
              "    .dataframe thead th {\n",
              "        text-align: right;\n",
              "    }\n",
              "</style>\n",
              "<table border=\"1\" class=\"dataframe\">\n",
              "  <thead>\n",
              "    <tr style=\"text-align: right;\">\n",
              "      <th></th>\n",
              "      <th>creation_date</th>\n",
              "      <th>text</th>\n",
              "      <th>hashtags</th>\n",
              "      <th>user_name</th>\n",
              "      <th>screen_name</th>\n",
              "      <th>user_id</th>\n",
              "      <th>geo</th>\n",
              "      <th>coords</th>\n",
              "      <th>place</th>\n",
              "      <th>entities</th>\n",
              "      <th>location</th>\n",
              "      <th>protected_status</th>\n",
              "      <th>geo_enabled</th>\n",
              "    </tr>\n",
              "  </thead>\n",
              "  <tbody>\n",
              "    <tr>\n",
              "      <th>0</th>\n",
              "      <td>2021-08-17 22:17:08</td>\n",
              "      <td>7 de estos 12 acumularon títulos en el Barça de Guardiola https://t.co/1GRZdBj3T3</td>\n",
              "      <td>[]</td>\n",
              "      <td>Pepe Álvarez Gales</td>\n",
              "      <td>alvarezgales</td>\n",
              "      <td>71208588</td>\n",
              "      <td>None</td>\n",
              "      <td>None</td>\n",
              "      <td>None</td>\n",
              "      <td>{'url': {'urls': [{'url': 'https://t.co/F7U5hmDP0K', 'expanded_url': 'http://imdb.me/alvarezgales', 'display_url': 'imdb.me/alvarezgales', 'indices': [0, 23]}]}, 'description': {'urls': []}}</td>\n",
              "      <td>Brooklyn</td>\n",
              "      <td>False</td>\n",
              "      <td>False</td>\n",
              "    </tr>\n",
              "    <tr>\n",
              "      <th>1</th>\n",
              "      <td>2021-08-17 22:17:07</td>\n",
              "      <td>@maddiemorriss_ Dm to get spoiled with my $$❤️</td>\n",
              "      <td>[]</td>\n",
              "      <td>Mia Ava</td>\n",
              "      <td>mia1_ava</td>\n",
              "      <td>1423058431817170945</td>\n",
              "      <td>None</td>\n",
              "      <td>None</td>\n",
              "      <td>None</td>\n",
              "      <td>{'description': {'urls': []}}</td>\n",
              "      <td>New York, NY</td>\n",
              "      <td>False</td>\n",
              "      <td>False</td>\n",
              "    </tr>\n",
              "    <tr>\n",
              "      <th>2</th>\n",
              "      <td>2021-08-17 22:17:07</td>\n",
              "      <td>@callmeshirleyq Congrats, Shirley!</td>\n",
              "      <td>[]</td>\n",
              "      <td>Elizabeth Yuan</td>\n",
              "      <td>baoyuan</td>\n",
              "      <td>17893073</td>\n",
              "      <td>None</td>\n",
              "      <td>None</td>\n",
              "      <td>None</td>\n",
              "      <td>{'url': {'urls': [{'url': 'https://t.co/AIDy6laMzN', 'expanded_url': 'http://wsj.com', 'display_url': 'wsj.com', 'indices': [0, 23]}]}, 'description': {'urls': []}}</td>\n",
              "      <td>New York</td>\n",
              "      <td>False</td>\n",
              "      <td>True</td>\n",
              "    </tr>\n",
              "    <tr>\n",
              "      <th>3</th>\n",
              "      <td>2021-08-17 22:17:07</td>\n",
              "      <td>The Dutch secret to boosting joy every day https://t.co/9F0Z6z6nis</td>\n",
              "      <td>[]</td>\n",
              "      <td>Fast Co. Work Life</td>\n",
              "      <td>FastCoWorkLife</td>\n",
              "      <td>211891109</td>\n",
              "      <td>None</td>\n",
              "      <td>None</td>\n",
              "      <td>None</td>\n",
              "      <td>{'url': {'urls': [{'url': 'https://t.co/5bMT27ZJno', 'expanded_url': 'http://www.fastcompany.com/leadership', 'display_url': 'fastcompany.com/leadership', 'indices': [0, 23]}]}, 'description': {'urls': []}}</td>\n",
              "      <td>New York, NY</td>\n",
              "      <td>False</td>\n",
              "      <td>False</td>\n",
              "    </tr>\n",
              "    <tr>\n",
              "      <th>4</th>\n",
              "      <td>2021-08-17 22:17:07</td>\n",
              "      <td>@katelinthicum Great angle.</td>\n",
              "      <td>[]</td>\n",
              "      <td>Danny Groner</td>\n",
              "      <td>DannyGroner</td>\n",
              "      <td>361643871</td>\n",
              "      <td>None</td>\n",
              "      <td>None</td>\n",
              "      <td>None</td>\n",
              "      <td>{'description': {'urls': []}}</td>\n",
              "      <td>New York, NY</td>\n",
              "      <td>False</td>\n",
              "      <td>False</td>\n",
              "    </tr>\n",
              "  </tbody>\n",
              "</table>\n",
              "</div>"
            ],
            "text/plain": [
              "        creation_date  \\\n",
              "0 2021-08-17 22:17:08   \n",
              "1 2021-08-17 22:17:07   \n",
              "2 2021-08-17 22:17:07   \n",
              "3 2021-08-17 22:17:07   \n",
              "4 2021-08-17 22:17:07   \n",
              "\n",
              "                                                                                text  \\\n",
              "0  7 de estos 12 acumularon títulos en el Barça de Guardiola https://t.co/1GRZdBj3T3   \n",
              "1                                     @maddiemorriss_ Dm to get spoiled with my $$❤️   \n",
              "2                                                 @callmeshirleyq Congrats, Shirley!   \n",
              "3                 The Dutch secret to boosting joy every day https://t.co/9F0Z6z6nis   \n",
              "4                                                        @katelinthicum Great angle.   \n",
              "\n",
              "  hashtags           user_name     screen_name              user_id   geo  \\\n",
              "0       []  Pepe Álvarez Gales    alvarezgales             71208588  None   \n",
              "1       []             Mia Ava        mia1_ava  1423058431817170945  None   \n",
              "2       []      Elizabeth Yuan         baoyuan             17893073  None   \n",
              "3       []  Fast Co. Work Life  FastCoWorkLife            211891109  None   \n",
              "4       []        Danny Groner     DannyGroner            361643871  None   \n",
              "\n",
              "  coords place  \\\n",
              "0   None  None   \n",
              "1   None  None   \n",
              "2   None  None   \n",
              "3   None  None   \n",
              "4   None  None   \n",
              "\n",
              "                                                                                                                                                                                                         entities  \\\n",
              "0                  {'url': {'urls': [{'url': 'https://t.co/F7U5hmDP0K', 'expanded_url': 'http://imdb.me/alvarezgales', 'display_url': 'imdb.me/alvarezgales', 'indices': [0, 23]}]}, 'description': {'urls': []}}   \n",
              "1                                                                                                                                                                                   {'description': {'urls': []}}   \n",
              "2                                            {'url': {'urls': [{'url': 'https://t.co/AIDy6laMzN', 'expanded_url': 'http://wsj.com', 'display_url': 'wsj.com', 'indices': [0, 23]}]}, 'description': {'urls': []}}   \n",
              "3  {'url': {'urls': [{'url': 'https://t.co/5bMT27ZJno', 'expanded_url': 'http://www.fastcompany.com/leadership', 'display_url': 'fastcompany.com/leadership', 'indices': [0, 23]}]}, 'description': {'urls': []}}   \n",
              "4                                                                                                                                                                                   {'description': {'urls': []}}   \n",
              "\n",
              "       location  protected_status  geo_enabled  \n",
              "0      Brooklyn             False        False  \n",
              "1  New York, NY             False        False  \n",
              "2      New York             False         True  \n",
              "3  New York, NY             False        False  \n",
              "4  New York, NY             False        False  "
            ]
          },
          "metadata": {
            "tags": []
          },
          "execution_count": 9
        }
      ]
    },
    {
      "cell_type": "code",
      "metadata": {
        "id": "31ada543"
      },
      "source": [
        "#getting coordinates of general tweet locations\n",
        "tweet_df['location_coords'] = tweet_df['location'].apply(lambda x: get_address_to_coords([x],addrs_list[0]) )"
      ],
      "id": "31ada543",
      "execution_count": null,
      "outputs": []
    },
    {
      "cell_type": "code",
      "metadata": {
        "id": "ffd57281"
      },
      "source": [
        "list_of_tweets = tweet_df.text.tolist()\n",
        "tweet_location_coords_list_of_dicts = tweet_df.location_coords.tolist()"
      ],
      "id": "ffd57281",
      "execution_count": null,
      "outputs": []
    },
    {
      "cell_type": "code",
      "metadata": {
        "id": "99183228"
      },
      "source": [
        "for t in range(len(list_of_tweets)):\n",
        "    tweet_location_coords_list_of_dicts[t].update({'tweet_text':list_of_tweets[t]})    "
      ],
      "id": "99183228",
      "execution_count": null,
      "outputs": []
    },
    {
      "cell_type": "markdown",
      "metadata": {
        "id": "aa48491a"
      },
      "source": [
        "## Make map"
      ],
      "id": "aa48491a"
    },
    {
      "cell_type": "code",
      "metadata": {
        "id": "63697fad",
        "scrolled": true,
        "outputId": "8efcee08-43e4-46b2-c5dc-4c701366bcff"
      },
      "source": [
        "################################################################################\n",
        "# Now you can see your results!                                                #\n",
        "# You can hover over each marker to see the Tweet text                         #\n",
        "################################################################################\n",
        "#                                                                              # \n",
        "# !!!!!THESE ARE NOT EXACT LOCATIONS! THEY ARE WITHIN THE RADIUS YOU SPECIFIED # \n",
        "#                           BUT THEY ARE NOT EXACT!!!!                         #\n",
        "#                                                                              #\n",
        "################################################################################\n",
        "\n",
        "make_folium_map(\n",
        "    point_of_interest_coords_list_of_dicts=poi_data_list_of_dicts,\n",
        "    tweets_coords_list_of_dicts=tweet_df.location_coords.tolist(),\n",
        ")"
      ],
      "id": "63697fad",
      "execution_count": null,
      "outputs": [
        {
          "output_type": "execute_result",
          "data": {
            "text/html": [
              "<div style=\"width:100%;\"><div style=\"position:relative;width:100%;height:0;padding-bottom:60%;\"><span style=\"color:#565656\">Make this Notebook Trusted to load map: File -> Trust Notebook</span><iframe src=\"about:blank\" style=\"position:absolute;width:100%;height:100%;left:0;top:0;border:none !important;\" data-html=%3C%21DOCTYPE%20html%3E%0A%3Chead%3E%20%20%20%20%0A%20%20%20%20%3Cmeta%20http-equiv%3D%22content-type%22%20content%3D%22text/html%3B%20charset%3DUTF-8%22%20/%3E%0A%20%20%20%20%0A%20%20%20%20%20%20%20%20%3Cscript%3E%0A%20%20%20%20%20%20%20%20%20%20%20%20L_NO_TOUCH%20%3D%20false%3B%0A%20%20%20%20%20%20%20%20%20%20%20%20L_DISABLE_3D%20%3D%20false%3B%0A%20%20%20%20%20%20%20%20%3C/script%3E%0A%20%20%20%20%0A%20%20%20%20%3Cstyle%3Ehtml%2C%20body%20%7Bwidth%3A%20100%25%3Bheight%3A%20100%25%3Bmargin%3A%200%3Bpadding%3A%200%3B%7D%3C/style%3E%0A%20%20%20%20%3Cstyle%3E%23map%20%7Bposition%3Aabsolute%3Btop%3A0%3Bbottom%3A0%3Bright%3A0%3Bleft%3A0%3B%7D%3C/style%3E%0A%20%20%20%20%3Cscript%20src%3D%22https%3A//cdn.jsdelivr.net/npm/leaflet%401.6.0/dist/leaflet.js%22%3E%3C/script%3E%0A%20%20%20%20%3Cscript%20src%3D%22https%3A//code.jquery.com/jquery-1.12.4.min.js%22%3E%3C/script%3E%0A%20%20%20%20%3Cscript%20src%3D%22https%3A//maxcdn.bootstrapcdn.com/bootstrap/3.2.0/js/bootstrap.min.js%22%3E%3C/script%3E%0A%20%20%20%20%3Cscript%20src%3D%22https%3A//cdnjs.cloudflare.com/ajax/libs/Leaflet.awesome-markers/2.0.2/leaflet.awesome-markers.js%22%3E%3C/script%3E%0A%20%20%20%20%3Clink%20rel%3D%22stylesheet%22%20href%3D%22https%3A//cdn.jsdelivr.net/npm/leaflet%401.6.0/dist/leaflet.css%22/%3E%0A%20%20%20%20%3Clink%20rel%3D%22stylesheet%22%20href%3D%22https%3A//maxcdn.bootstrapcdn.com/bootstrap/3.2.0/css/bootstrap.min.css%22/%3E%0A%20%20%20%20%3Clink%20rel%3D%22stylesheet%22%20href%3D%22https%3A//maxcdn.bootstrapcdn.com/bootstrap/3.2.0/css/bootstrap-theme.min.css%22/%3E%0A%20%20%20%20%3Clink%20rel%3D%22stylesheet%22%20href%3D%22https%3A//maxcdn.bootstrapcdn.com/font-awesome/4.6.3/css/font-awesome.min.css%22/%3E%0A%20%20%20%20%3Clink%20rel%3D%22stylesheet%22%20href%3D%22https%3A//cdnjs.cloudflare.com/ajax/libs/Leaflet.awesome-markers/2.0.2/leaflet.awesome-markers.css%22/%3E%0A%20%20%20%20%3Clink%20rel%3D%22stylesheet%22%20href%3D%22https%3A//cdn.jsdelivr.net/gh/python-visualization/folium/folium/templates/leaflet.awesome.rotate.min.css%22/%3E%0A%20%20%20%20%0A%20%20%20%20%20%20%20%20%20%20%20%20%3Cmeta%20name%3D%22viewport%22%20content%3D%22width%3Ddevice-width%2C%0A%20%20%20%20%20%20%20%20%20%20%20%20%20%20%20%20initial-scale%3D1.0%2C%20maximum-scale%3D1.0%2C%20user-scalable%3Dno%22%20/%3E%0A%20%20%20%20%20%20%20%20%20%20%20%20%3Cstyle%3E%0A%20%20%20%20%20%20%20%20%20%20%20%20%20%20%20%20%23map_775e46fc6d5b45d6b5e9122822c604fc%20%7B%0A%20%20%20%20%20%20%20%20%20%20%20%20%20%20%20%20%20%20%20%20position%3A%20relative%3B%0A%20%20%20%20%20%20%20%20%20%20%20%20%20%20%20%20%20%20%20%20width%3A%20100.0%25%3B%0A%20%20%20%20%20%20%20%20%20%20%20%20%20%20%20%20%20%20%20%20height%3A%20100.0%25%3B%0A%20%20%20%20%20%20%20%20%20%20%20%20%20%20%20%20%20%20%20%20left%3A%200.0%25%3B%0A%20%20%20%20%20%20%20%20%20%20%20%20%20%20%20%20%20%20%20%20top%3A%200.0%25%3B%0A%20%20%20%20%20%20%20%20%20%20%20%20%20%20%20%20%7D%0A%20%20%20%20%20%20%20%20%20%20%20%20%3C/style%3E%0A%20%20%20%20%20%20%20%20%0A%3C/head%3E%0A%3Cbody%3E%20%20%20%20%0A%20%20%20%20%0A%20%20%20%20%20%20%20%20%20%20%20%20%3Cdiv%20class%3D%22folium-map%22%20id%3D%22map_775e46fc6d5b45d6b5e9122822c604fc%22%20%3E%3C/div%3E%0A%20%20%20%20%20%20%20%20%0A%3C/body%3E%0A%3Cscript%3E%20%20%20%20%0A%20%20%20%20%0A%20%20%20%20%20%20%20%20%20%20%20%20var%20map_775e46fc6d5b45d6b5e9122822c604fc%20%3D%20L.map%28%0A%20%20%20%20%20%20%20%20%20%20%20%20%20%20%20%20%22map_775e46fc6d5b45d6b5e9122822c604fc%22%2C%0A%20%20%20%20%20%20%20%20%20%20%20%20%20%20%20%20%7B%0A%20%20%20%20%20%20%20%20%20%20%20%20%20%20%20%20%20%20%20%20center%3A%20%5B40.7127281%2C%20-74.0060152%5D%2C%0A%20%20%20%20%20%20%20%20%20%20%20%20%20%20%20%20%20%20%20%20crs%3A%20L.CRS.EPSG3857%2C%0A%20%20%20%20%20%20%20%20%20%20%20%20%20%20%20%20%20%20%20%20zoom%3A%2010%2C%0A%20%20%20%20%20%20%20%20%20%20%20%20%20%20%20%20%20%20%20%20zoomControl%3A%20true%2C%0A%20%20%20%20%20%20%20%20%20%20%20%20%20%20%20%20%20%20%20%20preferCanvas%3A%20false%2C%0A%20%20%20%20%20%20%20%20%20%20%20%20%20%20%20%20%7D%0A%20%20%20%20%20%20%20%20%20%20%20%20%29%3B%0A%0A%20%20%20%20%20%20%20%20%20%20%20%20%0A%0A%20%20%20%20%20%20%20%20%0A%20%20%20%20%0A%20%20%20%20%20%20%20%20%20%20%20%20var%20tile_layer_1e4326acc7104f28b3a152bef99fe8a6%20%3D%20L.tileLayer%28%0A%20%20%20%20%20%20%20%20%20%20%20%20%20%20%20%20%22https%3A//%7Bs%7D.tile.openstreetmap.org/%7Bz%7D/%7Bx%7D/%7By%7D.png%22%2C%0A%20%20%20%20%20%20%20%20%20%20%20%20%20%20%20%20%7B%22attribution%22%3A%20%22Data%20by%20%5Cu0026copy%3B%20%5Cu003ca%20href%3D%5C%22http%3A//openstreetmap.org%5C%22%5Cu003eOpenStreetMap%5Cu003c/a%5Cu003e%2C%20under%20%5Cu003ca%20href%3D%5C%22http%3A//www.openstreetmap.org/copyright%5C%22%5Cu003eODbL%5Cu003c/a%5Cu003e.%22%2C%20%22detectRetina%22%3A%20false%2C%20%22maxNativeZoom%22%3A%2018%2C%20%22maxZoom%22%3A%2018%2C%20%22minZoom%22%3A%200%2C%20%22noWrap%22%3A%20false%2C%20%22opacity%22%3A%201%2C%20%22subdomains%22%3A%20%22abc%22%2C%20%22tms%22%3A%20false%7D%0A%20%20%20%20%20%20%20%20%20%20%20%20%29.addTo%28map_775e46fc6d5b45d6b5e9122822c604fc%29%3B%0A%20%20%20%20%20%20%20%20%0A%20%20%20%20%0A%20%20%20%20%20%20%20%20%20%20%20%20var%20marker_238ab347726d43ee8a4970b62a3f51ee%20%3D%20L.marker%28%0A%20%20%20%20%20%20%20%20%20%20%20%20%20%20%20%20%5B40.7127281%2C%20-74.0060152%5D%2C%0A%20%20%20%20%20%20%20%20%20%20%20%20%20%20%20%20%7B%22defaultZoomStart%22%3A%2015%7D%0A%20%20%20%20%20%20%20%20%20%20%20%20%29.addTo%28map_775e46fc6d5b45d6b5e9122822c604fc%29%3B%0A%20%20%20%20%20%20%20%20%0A%20%20%20%20%0A%20%20%20%20%20%20%20%20%20%20%20%20var%20icon_1cf7eeb53ac5498fa8b340846575a9cb%20%3D%20L.AwesomeMarkers.icon%28%0A%20%20%20%20%20%20%20%20%20%20%20%20%20%20%20%20%7B%22extraClasses%22%3A%20%22fa-rotate-0%22%2C%20%22icon%22%3A%20%22info-sign%22%2C%20%22iconColor%22%3A%20%22white%22%2C%20%22markerColor%22%3A%20%22green%22%2C%20%22prefix%22%3A%20%22glyphicon%22%7D%0A%20%20%20%20%20%20%20%20%20%20%20%20%29%3B%0A%20%20%20%20%20%20%20%20%20%20%20%20marker_238ab347726d43ee8a4970b62a3f51ee.setIcon%28icon_1cf7eeb53ac5498fa8b340846575a9cb%29%3B%0A%20%20%20%20%20%20%20%20%0A%20%20%20%20%0A%20%20%20%20%20%20%20%20%20%20%20%20marker_238ab347726d43ee8a4970b62a3f51ee.bindTooltip%28%0A%20%20%20%20%20%20%20%20%20%20%20%20%20%20%20%20%60%3Cdiv%3E%0A%20%20%20%20%20%20%20%20%20%20%20%20%20%20%20%20%20%20%20%20%20NYC%0A%20%20%20%20%20%20%20%20%20%20%20%20%20%20%20%20%20%3C/div%3E%60%2C%0A%20%20%20%20%20%20%20%20%20%20%20%20%20%20%20%20%7B%22sticky%22%3A%20true%7D%0A%20%20%20%20%20%20%20%20%20%20%20%20%29%3B%0A%20%20%20%20%20%20%20%20%0A%20%20%20%20%0A%20%20%20%20%20%20%20%20%20%20%20%20var%20marker_2ae66b38855244259685b43611cc26f9%20%3D%20L.marker%28%0A%20%20%20%20%20%20%20%20%20%20%20%20%20%20%20%20%5B40.6600038%2C%20-73.9481823%5D%2C%0A%20%20%20%20%20%20%20%20%20%20%20%20%20%20%20%20%7B%7D%0A%20%20%20%20%20%20%20%20%20%20%20%20%29.addTo%28map_775e46fc6d5b45d6b5e9122822c604fc%29%3B%0A%20%20%20%20%20%20%20%20%0A%20%20%20%20%0A%20%20%20%20%20%20%20%20%20%20%20%20var%20icon_080d57e284ec466a95575416c0687fa3%20%3D%20L.AwesomeMarkers.icon%28%0A%20%20%20%20%20%20%20%20%20%20%20%20%20%20%20%20%7B%22extraClasses%22%3A%20%22fa-rotate-0%22%2C%20%22icon%22%3A%20%22info-sign%22%2C%20%22iconColor%22%3A%20%22white%22%2C%20%22markerColor%22%3A%20%22red%22%2C%20%22prefix%22%3A%20%22glyphicon%22%7D%0A%20%20%20%20%20%20%20%20%20%20%20%20%29%3B%0A%20%20%20%20%20%20%20%20%20%20%20%20marker_2ae66b38855244259685b43611cc26f9.setIcon%28icon_080d57e284ec466a95575416c0687fa3%29%3B%0A%20%20%20%20%20%20%20%20%0A%20%20%20%20%0A%20%20%20%20%20%20%20%20%20%20%20%20marker_2ae66b38855244259685b43611cc26f9.bindTooltip%28%0A%20%20%20%20%20%20%20%20%20%20%20%20%20%20%20%20%60%3Cdiv%3E%0A%20%20%20%20%20%20%20%20%20%20%20%20%20%20%20%20%20%20%20%20%207%20de%20estos%2012%20acumularon%20t%C3%ADtulos%20en%20el%20Bar%C3%A7a%20de%20Guardiola%20https%3A//t.co/1GRZdBj3T3%0A%20%20%20%20%20%20%20%20%20%20%20%20%20%20%20%20%20%3C/div%3E%60%2C%0A%20%20%20%20%20%20%20%20%20%20%20%20%20%20%20%20%7B%22sticky%22%3A%20true%7D%0A%20%20%20%20%20%20%20%20%20%20%20%20%29%3B%0A%20%20%20%20%20%20%20%20%0A%20%20%20%20%0A%20%20%20%20%20%20%20%20%20%20%20%20var%20marker_bcb0e416c7ed45d6bbce2c2e1900c7e7%20%3D%20L.marker%28%0A%20%20%20%20%20%20%20%20%20%20%20%20%20%20%20%20%5B40.7190281%2C%20-73.99651519999999%5D%2C%0A%20%20%20%20%20%20%20%20%20%20%20%20%20%20%20%20%7B%7D%0A%20%20%20%20%20%20%20%20%20%20%20%20%29.addTo%28map_775e46fc6d5b45d6b5e9122822c604fc%29%3B%0A%20%20%20%20%20%20%20%20%0A%20%20%20%20%0A%20%20%20%20%20%20%20%20%20%20%20%20var%20icon_ea8c24e9ddd844e09327c5bf14643329%20%3D%20L.AwesomeMarkers.icon%28%0A%20%20%20%20%20%20%20%20%20%20%20%20%20%20%20%20%7B%22extraClasses%22%3A%20%22fa-rotate-0%22%2C%20%22icon%22%3A%20%22info-sign%22%2C%20%22iconColor%22%3A%20%22white%22%2C%20%22markerColor%22%3A%20%22red%22%2C%20%22prefix%22%3A%20%22glyphicon%22%7D%0A%20%20%20%20%20%20%20%20%20%20%20%20%29%3B%0A%20%20%20%20%20%20%20%20%20%20%20%20marker_bcb0e416c7ed45d6bbce2c2e1900c7e7.setIcon%28icon_ea8c24e9ddd844e09327c5bf14643329%29%3B%0A%20%20%20%20%20%20%20%20%0A%20%20%20%20%0A%20%20%20%20%20%20%20%20%20%20%20%20marker_bcb0e416c7ed45d6bbce2c2e1900c7e7.bindTooltip%28%0A%20%20%20%20%20%20%20%20%20%20%20%20%20%20%20%20%60%3Cdiv%3E%0A%20%20%20%20%20%20%20%20%20%20%20%20%20%20%20%20%20%20%20%20%20%40maddiemorriss_%20Dm%20to%20get%20spoiled%20with%20my%20%24%24%E2%9D%A4%EF%B8%8F%0A%20%20%20%20%20%20%20%20%20%20%20%20%20%20%20%20%20%3C/div%3E%60%2C%0A%20%20%20%20%20%20%20%20%20%20%20%20%20%20%20%20%7B%22sticky%22%3A%20true%7D%0A%20%20%20%20%20%20%20%20%20%20%20%20%29%3B%0A%20%20%20%20%20%20%20%20%0A%20%20%20%20%0A%20%20%20%20%20%20%20%20%20%20%20%20var%20marker_4026cce99f75409ba0f3c17cc2e0f574%20%3D%20L.marker%28%0A%20%20%20%20%20%20%20%20%20%20%20%20%20%20%20%20%5B40.7128281%2C%20-74.0005152%5D%2C%0A%20%20%20%20%20%20%20%20%20%20%20%20%20%20%20%20%7B%7D%0A%20%20%20%20%20%20%20%20%20%20%20%20%29.addTo%28map_775e46fc6d5b45d6b5e9122822c604fc%29%3B%0A%20%20%20%20%20%20%20%20%0A%20%20%20%20%0A%20%20%20%20%20%20%20%20%20%20%20%20var%20icon_838e8bd6805a44f0950983f587f41b93%20%3D%20L.AwesomeMarkers.icon%28%0A%20%20%20%20%20%20%20%20%20%20%20%20%20%20%20%20%7B%22extraClasses%22%3A%20%22fa-rotate-0%22%2C%20%22icon%22%3A%20%22info-sign%22%2C%20%22iconColor%22%3A%20%22white%22%2C%20%22markerColor%22%3A%20%22red%22%2C%20%22prefix%22%3A%20%22glyphicon%22%7D%0A%20%20%20%20%20%20%20%20%20%20%20%20%29%3B%0A%20%20%20%20%20%20%20%20%20%20%20%20marker_4026cce99f75409ba0f3c17cc2e0f574.setIcon%28icon_838e8bd6805a44f0950983f587f41b93%29%3B%0A%20%20%20%20%20%20%20%20%0A%20%20%20%20%0A%20%20%20%20%20%20%20%20%20%20%20%20marker_4026cce99f75409ba0f3c17cc2e0f574.bindTooltip%28%0A%20%20%20%20%20%20%20%20%20%20%20%20%20%20%20%20%60%3Cdiv%3E%0A%20%20%20%20%20%20%20%20%20%20%20%20%20%20%20%20%20%20%20%20%20%40callmeshirleyq%20Congrats%2C%20Shirley%21%0A%20%20%20%20%20%20%20%20%20%20%20%20%20%20%20%20%20%3C/div%3E%60%2C%0A%20%20%20%20%20%20%20%20%20%20%20%20%20%20%20%20%7B%22sticky%22%3A%20true%7D%0A%20%20%20%20%20%20%20%20%20%20%20%20%29%3B%0A%20%20%20%20%20%20%20%20%0A%20%20%20%20%0A%20%20%20%20%20%20%20%20%20%20%20%20var%20marker_9015cd2b0ad04800b1cfcca132a66a5d%20%3D%20L.marker%28%0A%20%20%20%20%20%20%20%20%20%20%20%20%20%20%20%20%5B40.7160281%2C%20-74.0049152%5D%2C%0A%20%20%20%20%20%20%20%20%20%20%20%20%20%20%20%20%7B%7D%0A%20%20%20%20%20%20%20%20%20%20%20%20%29.addTo%28map_775e46fc6d5b45d6b5e9122822c604fc%29%3B%0A%20%20%20%20%20%20%20%20%0A%20%20%20%20%0A%20%20%20%20%20%20%20%20%20%20%20%20var%20icon_a485efb93c0f46d0b8ddf8ed94a174f4%20%3D%20L.AwesomeMarkers.icon%28%0A%20%20%20%20%20%20%20%20%20%20%20%20%20%20%20%20%7B%22extraClasses%22%3A%20%22fa-rotate-0%22%2C%20%22icon%22%3A%20%22info-sign%22%2C%20%22iconColor%22%3A%20%22white%22%2C%20%22markerColor%22%3A%20%22red%22%2C%20%22prefix%22%3A%20%22glyphicon%22%7D%0A%20%20%20%20%20%20%20%20%20%20%20%20%29%3B%0A%20%20%20%20%20%20%20%20%20%20%20%20marker_9015cd2b0ad04800b1cfcca132a66a5d.setIcon%28icon_a485efb93c0f46d0b8ddf8ed94a174f4%29%3B%0A%20%20%20%20%20%20%20%20%0A%20%20%20%20%0A%20%20%20%20%20%20%20%20%20%20%20%20marker_9015cd2b0ad04800b1cfcca132a66a5d.bindTooltip%28%0A%20%20%20%20%20%20%20%20%20%20%20%20%20%20%20%20%60%3Cdiv%3E%0A%20%20%20%20%20%20%20%20%20%20%20%20%20%20%20%20%20%20%20%20%20The%20Dutch%20secret%20to%20boosting%20joy%20every%20day%20https%3A//t.co/9F0Z6z6nis%0A%20%20%20%20%20%20%20%20%20%20%20%20%20%20%20%20%20%3C/div%3E%60%2C%0A%20%20%20%20%20%20%20%20%20%20%20%20%20%20%20%20%7B%22sticky%22%3A%20true%7D%0A%20%20%20%20%20%20%20%20%20%20%20%20%29%3B%0A%20%20%20%20%20%20%20%20%0A%20%20%20%20%0A%20%20%20%20%20%20%20%20%20%20%20%20var%20marker_0d6052142db34d1da60bd13de5a03932%20%3D%20L.marker%28%0A%20%20%20%20%20%20%20%20%20%20%20%20%20%20%20%20%5B40.7142281%2C%20-74.0049152%5D%2C%0A%20%20%20%20%20%20%20%20%20%20%20%20%20%20%20%20%7B%7D%0A%20%20%20%20%20%20%20%20%20%20%20%20%29.addTo%28map_775e46fc6d5b45d6b5e9122822c604fc%29%3B%0A%20%20%20%20%20%20%20%20%0A%20%20%20%20%0A%20%20%20%20%20%20%20%20%20%20%20%20var%20icon_327a76b16a6740e28b279ad8402d284d%20%3D%20L.AwesomeMarkers.icon%28%0A%20%20%20%20%20%20%20%20%20%20%20%20%20%20%20%20%7B%22extraClasses%22%3A%20%22fa-rotate-0%22%2C%20%22icon%22%3A%20%22info-sign%22%2C%20%22iconColor%22%3A%20%22white%22%2C%20%22markerColor%22%3A%20%22red%22%2C%20%22prefix%22%3A%20%22glyphicon%22%7D%0A%20%20%20%20%20%20%20%20%20%20%20%20%29%3B%0A%20%20%20%20%20%20%20%20%20%20%20%20marker_0d6052142db34d1da60bd13de5a03932.setIcon%28icon_327a76b16a6740e28b279ad8402d284d%29%3B%0A%20%20%20%20%20%20%20%20%0A%20%20%20%20%0A%20%20%20%20%20%20%20%20%20%20%20%20marker_0d6052142db34d1da60bd13de5a03932.bindTooltip%28%0A%20%20%20%20%20%20%20%20%20%20%20%20%20%20%20%20%60%3Cdiv%3E%0A%20%20%20%20%20%20%20%20%20%20%20%20%20%20%20%20%20%20%20%20%20%40katelinthicum%20Great%20angle.%0A%20%20%20%20%20%20%20%20%20%20%20%20%20%20%20%20%20%3C/div%3E%60%2C%0A%20%20%20%20%20%20%20%20%20%20%20%20%20%20%20%20%7B%22sticky%22%3A%20true%7D%0A%20%20%20%20%20%20%20%20%20%20%20%20%29%3B%0A%20%20%20%20%20%20%20%20%0A%20%20%20%20%0A%20%20%20%20%20%20%20%20%20%20%20%20var%20marker_de0ae974f23c4355b2db36f1523d5c3f%20%3D%20L.marker%28%0A%20%20%20%20%20%20%20%20%20%20%20%20%20%20%20%20%5B40.7138281%2C%20-74.0048152%5D%2C%0A%20%20%20%20%20%20%20%20%20%20%20%20%20%20%20%20%7B%7D%0A%20%20%20%20%20%20%20%20%20%20%20%20%29.addTo%28map_775e46fc6d5b45d6b5e9122822c604fc%29%3B%0A%20%20%20%20%20%20%20%20%0A%20%20%20%20%0A%20%20%20%20%20%20%20%20%20%20%20%20var%20icon_eacb280c4ce54c2b90f9c9397fd00ded%20%3D%20L.AwesomeMarkers.icon%28%0A%20%20%20%20%20%20%20%20%20%20%20%20%20%20%20%20%7B%22extraClasses%22%3A%20%22fa-rotate-0%22%2C%20%22icon%22%3A%20%22info-sign%22%2C%20%22iconColor%22%3A%20%22white%22%2C%20%22markerColor%22%3A%20%22red%22%2C%20%22prefix%22%3A%20%22glyphicon%22%7D%0A%20%20%20%20%20%20%20%20%20%20%20%20%29%3B%0A%20%20%20%20%20%20%20%20%20%20%20%20marker_de0ae974f23c4355b2db36f1523d5c3f.setIcon%28icon_eacb280c4ce54c2b90f9c9397fd00ded%29%3B%0A%20%20%20%20%20%20%20%20%0A%20%20%20%20%0A%20%20%20%20%20%20%20%20%20%20%20%20marker_de0ae974f23c4355b2db36f1523d5c3f.bindTooltip%28%0A%20%20%20%20%20%20%20%20%20%20%20%20%20%20%20%20%60%3Cdiv%3E%0A%20%20%20%20%20%20%20%20%20%20%20%20%20%20%20%20%20%20%20%20%20%40ACurleyWrites%20Big%20Red%20Lollipop%20by%20%40rukhsanabooks%20illustrated%20by%20%40SophieBlackall%0A%20%20%20%20%20%20%20%20%20%20%20%20%20%20%20%20%20%3C/div%3E%60%2C%0A%20%20%20%20%20%20%20%20%20%20%20%20%20%20%20%20%7B%22sticky%22%3A%20true%7D%0A%20%20%20%20%20%20%20%20%20%20%20%20%29%3B%0A%20%20%20%20%20%20%20%20%0A%20%20%20%20%0A%20%20%20%20%20%20%20%20%20%20%20%20var%20marker_1539526926644a7ab25831ae8115b80c%20%3D%20L.marker%28%0A%20%20%20%20%20%20%20%20%20%20%20%20%20%20%20%20%5B40.7194281%2C%20-74.00241519999999%5D%2C%0A%20%20%20%20%20%20%20%20%20%20%20%20%20%20%20%20%7B%7D%0A%20%20%20%20%20%20%20%20%20%20%20%20%29.addTo%28map_775e46fc6d5b45d6b5e9122822c604fc%29%3B%0A%20%20%20%20%20%20%20%20%0A%20%20%20%20%0A%20%20%20%20%20%20%20%20%20%20%20%20var%20icon_8175140c93e94c318a593a7d841adde7%20%3D%20L.AwesomeMarkers.icon%28%0A%20%20%20%20%20%20%20%20%20%20%20%20%20%20%20%20%7B%22extraClasses%22%3A%20%22fa-rotate-0%22%2C%20%22icon%22%3A%20%22info-sign%22%2C%20%22iconColor%22%3A%20%22white%22%2C%20%22markerColor%22%3A%20%22red%22%2C%20%22prefix%22%3A%20%22glyphicon%22%7D%0A%20%20%20%20%20%20%20%20%20%20%20%20%29%3B%0A%20%20%20%20%20%20%20%20%20%20%20%20marker_1539526926644a7ab25831ae8115b80c.setIcon%28icon_8175140c93e94c318a593a7d841adde7%29%3B%0A%20%20%20%20%20%20%20%20%0A%20%20%20%20%0A%20%20%20%20%20%20%20%20%20%20%20%20marker_1539526926644a7ab25831ae8115b80c.bindTooltip%28%0A%20%20%20%20%20%20%20%20%20%20%20%20%20%20%20%20%60%3Cdiv%3E%0A%20%20%20%20%20%20%20%20%20%20%20%20%20%20%20%20%20%20%20%20%20%40peace1%20Junior%E2%80%99s%20Cheesecake%0A%20%20%20%20%20%20%20%20%20%20%20%20%20%20%20%20%20%3C/div%3E%60%2C%0A%20%20%20%20%20%20%20%20%20%20%20%20%20%20%20%20%7B%22sticky%22%3A%20true%7D%0A%20%20%20%20%20%20%20%20%20%20%20%20%29%3B%0A%20%20%20%20%20%20%20%20%0A%20%20%20%20%0A%20%20%20%20%20%20%20%20%20%20%20%20var%20marker_31c030a47dc04899a1a116894f2f245a%20%3D%20L.marker%28%0A%20%20%20%20%20%20%20%20%20%20%20%20%20%20%20%20%5B40.7224281%2C%20-73.9976152%5D%2C%0A%20%20%20%20%20%20%20%20%20%20%20%20%20%20%20%20%7B%7D%0A%20%20%20%20%20%20%20%20%20%20%20%20%29.addTo%28map_775e46fc6d5b45d6b5e9122822c604fc%29%3B%0A%20%20%20%20%20%20%20%20%0A%20%20%20%20%0A%20%20%20%20%20%20%20%20%20%20%20%20var%20icon_af3181f86cf14419b477149c80983467%20%3D%20L.AwesomeMarkers.icon%28%0A%20%20%20%20%20%20%20%20%20%20%20%20%20%20%20%20%7B%22extraClasses%22%3A%20%22fa-rotate-0%22%2C%20%22icon%22%3A%20%22info-sign%22%2C%20%22iconColor%22%3A%20%22white%22%2C%20%22markerColor%22%3A%20%22red%22%2C%20%22prefix%22%3A%20%22glyphicon%22%7D%0A%20%20%20%20%20%20%20%20%20%20%20%20%29%3B%0A%20%20%20%20%20%20%20%20%20%20%20%20marker_31c030a47dc04899a1a116894f2f245a.setIcon%28icon_af3181f86cf14419b477149c80983467%29%3B%0A%20%20%20%20%20%20%20%20%0A%20%20%20%20%0A%20%20%20%20%20%20%20%20%20%20%20%20marker_31c030a47dc04899a1a116894f2f245a.bindTooltip%28%0A%20%20%20%20%20%20%20%20%20%20%20%20%20%20%20%20%60%3Cdiv%3E%0A%20%20%20%20%20%20%20%20%20%20%20%20%20%20%20%20%20%20%20%20%20%40WhitneyReinhar7%20This%20is%20true%20%F0%9F%98%82%0A%20%20%20%20%20%20%20%20%20%20%20%20%20%20%20%20%20%3C/div%3E%60%2C%0A%20%20%20%20%20%20%20%20%20%20%20%20%20%20%20%20%7B%22sticky%22%3A%20true%7D%0A%20%20%20%20%20%20%20%20%20%20%20%20%29%3B%0A%20%20%20%20%20%20%20%20%0A%20%20%20%20%0A%20%20%20%20%20%20%20%20%20%20%20%20var%20marker_60b72c19028d498f80ee369c91380a8d%20%3D%20L.marker%28%0A%20%20%20%20%20%20%20%20%20%20%20%20%20%20%20%20%5B40.796523900000004%2C%20-73.9542939%5D%2C%0A%20%20%20%20%20%20%20%20%20%20%20%20%20%20%20%20%7B%7D%0A%20%20%20%20%20%20%20%20%20%20%20%20%29.addTo%28map_775e46fc6d5b45d6b5e9122822c604fc%29%3B%0A%20%20%20%20%20%20%20%20%0A%20%20%20%20%0A%20%20%20%20%20%20%20%20%20%20%20%20var%20icon_ee03fe2369f847569c06a4bdfbc38f53%20%3D%20L.AwesomeMarkers.icon%28%0A%20%20%20%20%20%20%20%20%20%20%20%20%20%20%20%20%7B%22extraClasses%22%3A%20%22fa-rotate-0%22%2C%20%22icon%22%3A%20%22info-sign%22%2C%20%22iconColor%22%3A%20%22white%22%2C%20%22markerColor%22%3A%20%22red%22%2C%20%22prefix%22%3A%20%22glyphicon%22%7D%0A%20%20%20%20%20%20%20%20%20%20%20%20%29%3B%0A%20%20%20%20%20%20%20%20%20%20%20%20marker_60b72c19028d498f80ee369c91380a8d.setIcon%28icon_ee03fe2369f847569c06a4bdfbc38f53%29%3B%0A%20%20%20%20%20%20%20%20%0A%20%20%20%20%0A%20%20%20%20%20%20%20%20%20%20%20%20marker_60b72c19028d498f80ee369c91380a8d.bindTooltip%28%0A%20%20%20%20%20%20%20%20%20%20%20%20%20%20%20%20%60%3Cdiv%3E%0A%20%20%20%20%20%20%20%20%20%20%20%20%20%20%20%20%20%20%20%20%20%40molliedice%20%40AndrewRestuccia%20%F0%9F%98%82%F0%9F%98%82%F0%9F%98%82%F0%9F%98%82%F0%9F%98%82%0A%20%20%20%20%20%20%20%20%20%20%20%20%20%20%20%20%20%3C/div%3E%60%2C%0A%20%20%20%20%20%20%20%20%20%20%20%20%20%20%20%20%7B%22sticky%22%3A%20true%7D%0A%20%20%20%20%20%20%20%20%20%20%20%20%29%3B%0A%20%20%20%20%20%20%20%20%0A%20%20%20%20%0A%20%20%20%20%20%20%20%20%20%20%20%20var%20marker_f0f8e281114d4334bec7f638e44250fc%20%3D%20L.marker%28%0A%20%20%20%20%20%20%20%20%20%20%20%20%20%20%20%20%5B40.7224281%2C%20-74.0052152%5D%2C%0A%20%20%20%20%20%20%20%20%20%20%20%20%20%20%20%20%7B%7D%0A%20%20%20%20%20%20%20%20%20%20%20%20%29.addTo%28map_775e46fc6d5b45d6b5e9122822c604fc%29%3B%0A%20%20%20%20%20%20%20%20%0A%20%20%20%20%0A%20%20%20%20%20%20%20%20%20%20%20%20var%20icon_359c7f05f67c4fc192ce1140d84807b9%20%3D%20L.AwesomeMarkers.icon%28%0A%20%20%20%20%20%20%20%20%20%20%20%20%20%20%20%20%7B%22extraClasses%22%3A%20%22fa-rotate-0%22%2C%20%22icon%22%3A%20%22info-sign%22%2C%20%22iconColor%22%3A%20%22white%22%2C%20%22markerColor%22%3A%20%22red%22%2C%20%22prefix%22%3A%20%22glyphicon%22%7D%0A%20%20%20%20%20%20%20%20%20%20%20%20%29%3B%0A%20%20%20%20%20%20%20%20%20%20%20%20marker_f0f8e281114d4334bec7f638e44250fc.setIcon%28icon_359c7f05f67c4fc192ce1140d84807b9%29%3B%0A%20%20%20%20%20%20%20%20%0A%20%20%20%20%0A%20%20%20%20%20%20%20%20%20%20%20%20marker_f0f8e281114d4334bec7f638e44250fc.bindTooltip%28%0A%20%20%20%20%20%20%20%20%20%20%20%20%20%20%20%20%60%3Cdiv%3E%0A%20%20%20%20%20%20%20%20%20%20%20%20%20%20%20%20%20%20%20%20%20La%20%F0%9F%A7%80%20%E2%9C%96%EF%B8%8F%20%F0%9F%8D%B5%20yo%20https%3A//t.co/BtJotvsgnC%0A%20%20%20%20%20%20%20%20%20%20%20%20%20%20%20%20%20%3C/div%3E%60%2C%0A%20%20%20%20%20%20%20%20%20%20%20%20%20%20%20%20%7B%22sticky%22%3A%20true%7D%0A%20%20%20%20%20%20%20%20%20%20%20%20%29%3B%0A%20%20%20%20%20%20%20%20%0A%3C/script%3E onload=\"this.contentDocument.open();this.contentDocument.write(    decodeURIComponent(this.getAttribute('data-html')));this.contentDocument.close();\" allowfullscreen webkitallowfullscreen mozallowfullscreen></iframe></div></div>"
            ],
            "text/plain": [
              "<folium.folium.Map at 0x7faffd7051c0>"
            ]
          },
          "metadata": {
            "tags": []
          },
          "execution_count": 13
        }
      ]
    }
  ]
}