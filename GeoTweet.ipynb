{
  "nbformat": 4,
  "nbformat_minor": 5,
  "metadata": {
    "kernelspec": {
      "display_name": "Python 3",
      "language": "python",
      "name": "python3"
    },
    "language_info": {
      "codemirror_mode": {
        "name": "ipython",
        "version": 3
      },
      "file_extension": ".py",
      "mimetype": "text/x-python",
      "name": "python",
      "nbconvert_exporter": "python",
      "pygments_lexer": "ipython3",
      "version": "3.8.5"
    },
    "colab": {
      "name": "GeoTweet.ipynb",
      "provenance": [],
      "collapsed_sections": [],
      "include_colab_link": true
    }
  },
  "cells": [
    {
      "cell_type": "markdown",
      "metadata": {
        "id": "view-in-github",
        "colab_type": "text"
      },
      "source": [
        "<a href=\"https://colab.research.google.com/github/Developernation/Algos/blob/master/GeoTweet.ipynb\" target=\"_parent\"><img src=\"https://colab.research.google.com/assets/colab-badge.svg\" alt=\"Open In Colab\"/></a>"
      ]
    },
    {
      "cell_type": "code",
      "metadata": {
        "id": "26b1c03b-da25-41c0-af98-1984349f2fab"
      },
      "source": [
        "import sys\n",
        "import subprocess\n",
        "import pkg_resources\n",
        "\n",
        "required = {'wikimapia_api', \n",
        "            'tweepy',\n",
        "            'requests',\n",
        "            'pandas',\n",
        "            'geopy',\n",
        "            'folium',\n",
        "            'matplotlib'}\n",
        "installed = {pkg.key for pkg in pkg_resources.working_set}\n",
        "missing = required - installed\n",
        "\n",
        "if missing:\n",
        "    python = sys.executable\n",
        "    subprocess.check_call([python, '-m', 'pip', 'install', *missing], stdout=subprocess.DEVNULL)\n",
        "\n",
        "import requests as req\n",
        "import pandas as pd\n",
        "from itertools import chain\n",
        "import json\n",
        "import logging\n",
        "import configparser\n",
        "import os\n",
        "from geopy.geocoders import Nominatim\n",
        "from geopy.extra.rate_limiter import RateLimiter\n",
        "import folium\n",
        "from folium.plugins import MarkerCluster\n",
        "import wikimapia_api\n",
        "from wikimapia_api import API,category_api\n",
        "from typing import List\n",
        "import re\n",
        "import time\n",
        "import random\n",
        "import matplotlib\n",
        "import tweepy as tpy\n",
        "pd.set_option('display.max_rows', 500) \n",
        "pd.set_option('max_colwidth', 400)\n",
        "\n",
        "# %matplotlib inline\n",
        "#https://python-visualization.github.io/folium/quickstart.html\n",
        "#https://geopy.readthedocs.io/en/stable/\n",
        "#https://medium.com/@saidakbarp/interactive-map-visualization-with-folium-in-python-2e95544d8d9b\n",
        "#wikimapia api https://wikimapia-api-py.readthedocs.io/en/latest/tutorial.html#installation\n",
        "#https://github.com/plandex/wikimapia-api-py/\n",
        "#https://py-googletrans.readthedocs.io/en/latest/\n",
        "#https://pypi.org/project/translate/\n",
        "\n",
        "#set folium bounds\n",
        "#https://stackoverflow.com/questions/58162200/pre-determine-optimal-level-of-zoom-in-folium\n",
        "\n",
        "#twitter api\n",
        "#https://docs.tweepy.org/en/stable/api.html\n",
        "\n",
        "#Tweepy\n",
        "#geocode\n",
        "#https://stackoverflow.com/questions/27319476/python-tweepy-find-all-tweets-in-the-netherlands\n",
        "#https://twittercommunity.com/t/geocode-problems/139652/3\n",
        "\n",
        "#yahoo Where on earth id (WOEID)\n",
        "#https://www.findmecity.com/\n",
        "\n",
        "#gmaps\n",
        "#https://jupyter-gmaps.readthedocs.io/en/latest/tutorial.html"
      ],
      "id": "26b1c03b-da25-41c0-af98-1984349f2fab",
      "execution_count": 2,
      "outputs": []
    },
    {
      "cell_type": "code",
      "metadata": {
        "id": "37c1f782"
      },
      "source": [
        "#utility functions to set up keystore\n",
        "def write_config(section:str,section_key:str,val:str,ini_file_name='keystore.ini',file_action='w') -> int:\n",
        "    \"\"\"\n",
        "      This is a utility function to help create config files \n",
        "      for api keys. \n",
        "\n",
        "      Parameters (required):\n",
        "      section - this is the section of the config file that you'd \n",
        "                like to create or add to. \n",
        "      section_key - this is the key holding the api key in a section. \n",
        "      val - this is the api key\n",
        "      ini_file_name - this is the config file name.  It should end with \n",
        "                .ini \n",
        "      file_action - this can be write (w) or append (a)\n",
        "      Example:\n",
        "        write_config('GOVDATA','BEA','<your API key>','econ_data_api_config.ini')\n",
        "\n",
        "      docs: https://docs.python.org/3/library/configparser.html\n",
        "    \"\"\"\n",
        "    config = configparser.RawConfigParser()\n",
        "#     config[section] = {section_key:val}\n",
        " \n",
        "    config.read(ini_file_name) \n",
        "    if section in config.sections():\n",
        "        print(f'section: {section} already exists')\n",
        "        curr_section_keys = [*config[section].keys()]\n",
        "        if section_key in curr_section_keys:      \n",
        "            resp = input(f'section key: {section_key} already exists. Would you like to overwrite? (Y/N)').lower()\n",
        "            if resp == 'y' or resp == 'yes':\n",
        "                print('Overwriting section key...')\n",
        "                config.set(section, section_key, re.escape(val))\n",
        "                print('Overwriting complete....')\n",
        "            else:\n",
        "                print('Overwriting canceled....')\n",
        "        else:\n",
        "            config.set(section, section_key, re.escape(val))\n",
        "    else:\n",
        "        config.add_section(section)\n",
        "        config.set(section, section_key, re.escape(val))\n",
        "    with open(ini_file_name, 'w') as configfile:\n",
        "        config.write(configfile)\n",
        "        \n",
        "    return 0\n",
        "\n",
        "def show_config_file_sections(config_doc:str)->List[str]:\n",
        "    \"\"\"\n",
        "    Utility function to show the section headings and keys\n",
        "    of config file.\n",
        "    \"\"\"\n",
        "    config = configparser.ConfigParser()\n",
        "    config.read(config_doc)\n",
        "    return {sect: [*config[sect].keys()] for sect in config.sections()}\n",
        "\n",
        "\n",
        "def read_config(config_file_name:str,\n",
        "                config_section:str,\n",
        "                config_key:str,\n",
        "               file_name=False) -> str:\n",
        "    \"\"\"\n",
        "    utility function to get the values from the keys in a config file.\n",
        "    \"\"\"\n",
        "    config = configparser.RawConfigParser()\n",
        "    config.read(config_file_name)\n",
        "    if file_name:\n",
        "        return config[config_section][config_key]\n",
        "    else:\n",
        "        return config[config_section][config_key].replace('\\\\','')\n",
        "# --------------------------------------------------------------------------------------------------------------------\n",
        "def get_wikimapia_category_map():\n",
        "    return {\n",
        "    'school':203,\n",
        "    'military':516,\n",
        "    'university':84,\n",
        "    'park':84,\n",
        "    'marketplace':1507\n",
        "}\n",
        "\n",
        "def get_address_to_coords(addr,default_value:str):\n",
        "    location_ = geolocator.geocode(addr)\n",
        "    if location_ == None:\n",
        "        location_ = geolocator.geocode(default_value)\n",
        "        print(f'***Found bad value:{addr} replacing with default value {default_value}***')\n",
        "        return  {'title':default_value,'loc_data':[location_.latitude,location_.longitude]}\n",
        "    time.sleep(2) #rate limiter\n",
        "    return {'title':addr,'loc_data':[location_.latitude,location_.longitude]}\n",
        "    \n",
        "def get_nearest_places_dict(place_type:str,coords_list_of_lists:list):\n",
        "    \"\"\"place type from get_wikimapia_category_map()\"\"\"\n",
        "    return [[\n",
        "    {'id':loc.get('id'),\n",
        "     'title':loc.get('title') ,\n",
        "     'loc_data':[loc['location'].get('lat'),loc['location'].get('lon')]} \n",
        "    for loc in list(API.places.nearest(coords_list[1],coords_list[0],category=get_wikimapia_category_map()[place_type]))\n",
        "                ] for coords_list in coords_list_of_lists]\n",
        "\n",
        "def make_folium_map(point_of_interest_coords_list_of_dicts,#from get_address_to_coords\n",
        "                    nearest_coords_list_of_dicts,# from get_nearest_places_dict\n",
        "                    tweets_coords_list_of_dicts, #list of coords from tweets for clustering\n",
        "                    map_type=\"OpenStreetMap\",zoom_level=15,\n",
        "                    point_of_interest_icon_color='green',\n",
        "                    nearest_coords_icon_color = 'blue',\n",
        "                    tweet_icon_color = 'red'\n",
        "                   ):\n",
        "    #main point of interest will be the first item in the point_of_interest_coords_list_of_dicts\n",
        "    map_= folium.Map(location=point_of_interest_coords_list_of_dicts[0]['loc_data'],tiles=map_type)\n",
        "    \n",
        "    for point_of_interest_coords_dict in point_of_interest_coords_list_of_dicts:\n",
        "        folium.Marker(\n",
        "            location=point_of_interest_coords_dict['loc_data'],\n",
        "            tooltip = point_of_interest_coords_dict['title'],\n",
        "            icon=folium.Icon(color=point_of_interest_icon_color),\n",
        "            default_zoom_start= zoom_level\n",
        "        ).add_to(map_)\n",
        "    \n",
        "    for data_dict in nearest_coords_list_of_dicts:       \n",
        "        #print(data_dict)\n",
        "        folium.Marker(\n",
        "            location=data_dict['loc_data'],\n",
        "            tooltip = data_dict['title'],\n",
        "            default_zoom_start= zoom_level,\n",
        "            icon=folium.Icon(color=nearest_coords_icon_color),\n",
        "        ).add_to(map_)\n",
        "     \n",
        "    lat_shift = 0\n",
        "    long_shift = 0\n",
        "    for data_dict in tweets_coords_list_of_dicts: \n",
        "        #marker_cluster = MarkerCluster().add_to(map_) \n",
        "        loc_info = [data_dict['loc_data'][0]+random.randrange(1,100)*.0001,\n",
        "         data_dict['loc_data'][1]+random.randrange(1,100)*.0001]\n",
        "        folium.Marker(\n",
        "            location=loc_info,\n",
        "            tooltip = data_dict['tweet_text'],\n",
        "            #default_zoom_start= zoom_level,\n",
        "            icon=folium.Icon(color=tweet_icon_color ),\n",
        "        ).add_to(map_)            \n",
        "    return map_"
      ],
      "id": "37c1f782",
      "execution_count": 4,
      "outputs": []
    },
    {
      "cell_type": "markdown",
      "metadata": {
        "id": "aMKZw5Uh3qMl"
      },
      "source": [
        "### Start-up Directions\n",
        "1. Read through the code so you understand what it is doing.  \n",
        "2. Copy this notebook into your google drive or onto your computer.\n",
        "3. Get API keys for Twitter (comsumer key, consumer secret, access token and access secret)\n",
        "4. Get API keys for Wikimapia (there's just one)\n",
        "5. Store your keys securely on your device (not in gdrive)\n",
        "5. Use the write_config function to write your keys to a temp ini file so you don't store them in your copied version of this notebook. You can use the default file name of keystore.ini or your can make your own but I recomment just using the default and deleting the file if you're using gdrive. \n",
        "6. Run the notebook and have fun! Please provide feedback if you have any. \n",
        "\n"
      ],
      "id": "aMKZw5Uh3qMl"
    },
    {
      "cell_type": "code",
      "metadata": {
        "colab": {
          "base_uri": "https://localhost:8080/"
        },
        "id": "ddaa2773",
        "outputId": "33f23f1a-d5a0-42d0-c92b-e9a196a84f47"
      },
      "source": [
        "#use this function to write your api keys to the config file. The defualt is set to keystore.ini\n",
        "write_config('<your section of the config>','<name of the api key>','<your api key>')"
      ],
      "id": "ddaa2773",
      "execution_count": 5,
      "outputs": [
        {
          "output_type": "execute_result",
          "data": {
            "text/plain": [
              "0"
            ]
          },
          "metadata": {
            "tags": []
          },
          "execution_count": 5
        }
      ]
    },
    {
      "cell_type": "code",
      "metadata": {
        "id": "nh3LN6Ar5hOZ"
      },
      "source": [
        "#if you make a mistake and you need to delete the keystore.ini file run this cell\n",
        "!rm keystore.ini"
      ],
      "id": "nh3LN6Ar5hOZ",
      "execution_count": 7,
      "outputs": []
    },
    {
      "cell_type": "code",
      "metadata": {
        "colab": {
          "base_uri": "https://localhost:8080/"
        },
        "id": "d9682308",
        "outputId": "47437905-6bac-4b7b-a9d5-5a24d56e7233"
      },
      "source": [
        "#you'll need to use the write_config() function to set up your keystore file once you have api keys\n",
        "show_config_file_sections('keystore.ini')"
      ],
      "id": "d9682308",
      "execution_count": 6,
      "outputs": [
        {
          "output_type": "execute_result",
          "data": {
            "text/plain": [
              "{'<your section of the config>': ['<name of the api key>']}"
            ]
          },
          "metadata": {
            "tags": []
          },
          "execution_count": 6
        }
      ]
    },
    {
      "cell_type": "code",
      "metadata": {
        "id": "264e5997"
      },
      "source": [
        "#instantiating the geolocator API\n",
        "geolocator = Nominatim(user_agent=\"GeoTweet\")"
      ],
      "id": "264e5997",
      "execution_count": null,
      "outputs": []
    },
    {
      "cell_type": "code",
      "metadata": {
        "id": "840255db"
      },
      "source": [
        "#accessing WIKIMAPIA's api \n",
        "API.config.key = read_config('keystore.ini','WIKIMAPIA','wikimapia_api_key')"
      ],
      "id": "840255db",
      "execution_count": null,
      "outputs": []
    },
    {
      "cell_type": "code",
      "metadata": {
        "id": "6108f5b9"
      },
      "source": [
        "#accessing Twitter's api\n",
        "auth = tpy.OAuthHandler(read_config('keystore.ini','TWITTER', 'consumer_key'),\n",
        "                        read_config('keystore.ini','TWITTER', 'consumer_secret'))\n",
        "api = tpy.API(auth)\n",
        "auth.set_access_token(read_config('keystore.ini','TWITTER', 'access_token'), \n",
        "                      read_config('keystore.ini','TWITTER', 'access_secret'))\n",
        "\n",
        "def limit_handled(cursor):\n",
        "    while True:\n",
        "        try:\n",
        "            yield cursor.next()\n",
        "        except StopIteration:\n",
        "            break\n",
        "        except tpy.RateLimitError:\n",
        "            time.sleep(15 * 60)\n"
      ],
      "id": "6108f5b9",
      "execution_count": null,
      "outputs": []
    },
    {
      "cell_type": "markdown",
      "metadata": {
        "id": "b6151676-01bd-4325-8cf6-4e405987d1dd"
      },
      "source": [
        "# <center>Part 1:Getting Geo-Coords</center>\n"
      ],
      "id": "b6151676-01bd-4325-8cf6-4e405987d1dd"
    },
    {
      "cell_type": "markdown",
      "metadata": {
        "id": "91a298c0"
      },
      "source": [
        "## Set your place of interest and get coords"
      ],
      "id": "91a298c0"
    },
    {
      "cell_type": "code",
      "metadata": {
        "id": "9854cde0"
      },
      "source": [
        "################################################################################\n",
        "#Add your locations to the list below, you can add as many as you like.        #\n",
        "#Feel free to remove NYC if you're not interested in that location             #\n",
        "################################################################################\n",
        "addrs_list = [\"NYC\"]"
      ],
      "id": "9854cde0",
      "execution_count": null,
      "outputs": []
    },
    {
      "cell_type": "code",
      "metadata": {
        "id": "0ac47f33",
        "outputId": "88072f8e-0246-436b-c504-11e283a2b6e5"
      },
      "source": [
        "poi_data_list_of_dicts =  [get_address_to_coords(addr,default_value=addrs_list[0]) for addr in addrs_list]\n",
        "poi_data_list_of_dicts"
      ],
      "id": "0ac47f33",
      "execution_count": null,
      "outputs": [
        {
          "output_type": "execute_result",
          "data": {
            "text/plain": [
              "[{'title': 'NYC', 'loc_data': [40.7127281, -74.0060152]}]"
            ]
          },
          "metadata": {
            "tags": []
          },
          "execution_count": 10
        }
      ]
    },
    {
      "cell_type": "code",
      "metadata": {
        "id": "e48756e3"
      },
      "source": [
        "################################################################################\n",
        "#Point of Interest Geocodes for Twitter                             \n",
        "## You can change the radius to search for tweets here but be aware that it will\n",
        "## increase the amount of data you will get\n",
        "################################################################################\n",
        "radius = '15'\n",
        "poi_gcode_list= [f\"{','.join(list(map(str,poi_data_dict['loc_data'])))},{radius}km\" for poi_data_dict in poi_data_list_of_dicts]"
      ],
      "id": "e48756e3",
      "execution_count": null,
      "outputs": []
    },
    {
      "cell_type": "markdown",
      "metadata": {
        "id": "4c16299f"
      },
      "source": [
        "## Get places of interest near your place of interest"
      ],
      "id": "4c16299f"
    },
    {
      "cell_type": "code",
      "metadata": {
        "id": "1186e7cb",
        "outputId": "80b43b00-3d55-4011-839c-c968bc81476b"
      },
      "source": [
        "################################################################################\n",
        "#Don't run this cell too many times or you'll get rate limited                 #\n",
        "################################################################################\n",
        "nearest_places_list_of_dicts = []\n",
        "\n",
        "for poi_data in poi_data_list_of_dicts:\n",
        "    print(poi_data['loc_data'])\n",
        "    dct = get_nearest_places_dict(place_type='military',coords_list_of_lists=[poi_data['loc_data']]) \n",
        "    nearest_places_list_of_dicts.append(dct)\n",
        "    time.sleep(2)\n",
        "nearest_places_list_of_dicts = list(chain.from_iterable(nearest_places_list_of_dicts))                                      "
      ],
      "id": "1186e7cb",
      "execution_count": null,
      "outputs": [
        {
          "output_type": "stream",
          "text": [
            "[40.7127281, -74.0060152]\n"
          ],
          "name": "stdout"
        },
        {
          "output_type": "error",
          "ename": "KeyboardInterrupt",
          "evalue": "",
          "traceback": [
            "\u001b[0;31m---------------------------------------------------------------------------\u001b[0m",
            "\u001b[0;31mKeyboardInterrupt\u001b[0m                         Traceback (most recent call last)",
            "\u001b[0;32m<ipython-input-12-078f3169fa7f>\u001b[0m in \u001b[0;36m<module>\u001b[0;34m\u001b[0m\n\u001b[1;32m      3\u001b[0m \u001b[0;32mfor\u001b[0m \u001b[0mpoi_data\u001b[0m \u001b[0;32min\u001b[0m \u001b[0mpoi_data_list_of_dicts\u001b[0m\u001b[0;34m:\u001b[0m\u001b[0;34m\u001b[0m\u001b[0;34m\u001b[0m\u001b[0m\n\u001b[1;32m      4\u001b[0m     \u001b[0mprint\u001b[0m\u001b[0;34m(\u001b[0m\u001b[0mpoi_data\u001b[0m\u001b[0;34m[\u001b[0m\u001b[0;34m'loc_data'\u001b[0m\u001b[0;34m]\u001b[0m\u001b[0;34m)\u001b[0m\u001b[0;34m\u001b[0m\u001b[0;34m\u001b[0m\u001b[0m\n\u001b[0;32m----> 5\u001b[0;31m     \u001b[0mdct\u001b[0m \u001b[0;34m=\u001b[0m \u001b[0mget_nearest_places_dict\u001b[0m\u001b[0;34m(\u001b[0m\u001b[0mplace_type\u001b[0m\u001b[0;34m=\u001b[0m\u001b[0;34m'military'\u001b[0m\u001b[0;34m,\u001b[0m\u001b[0mcoords_list_of_lists\u001b[0m\u001b[0;34m=\u001b[0m\u001b[0;34m[\u001b[0m\u001b[0mpoi_data\u001b[0m\u001b[0;34m[\u001b[0m\u001b[0;34m'loc_data'\u001b[0m\u001b[0;34m]\u001b[0m\u001b[0;34m]\u001b[0m\u001b[0;34m)\u001b[0m\u001b[0;34m\u001b[0m\u001b[0;34m\u001b[0m\u001b[0m\n\u001b[0m\u001b[1;32m      6\u001b[0m     \u001b[0mnearest_places_list_of_dicts\u001b[0m\u001b[0;34m.\u001b[0m\u001b[0mappend\u001b[0m\u001b[0;34m(\u001b[0m\u001b[0mdct\u001b[0m\u001b[0;34m)\u001b[0m\u001b[0;34m\u001b[0m\u001b[0;34m\u001b[0m\u001b[0m\n\u001b[1;32m      7\u001b[0m     \u001b[0mtime\u001b[0m\u001b[0;34m.\u001b[0m\u001b[0msleep\u001b[0m\u001b[0;34m(\u001b[0m\u001b[0;36m2\u001b[0m\u001b[0;34m)\u001b[0m\u001b[0;34m\u001b[0m\u001b[0;34m\u001b[0m\u001b[0m\n",
            "\u001b[0;32m<ipython-input-4-bd662b607370>\u001b[0m in \u001b[0;36mget_nearest_places_dict\u001b[0;34m(place_type, coords_list_of_lists)\u001b[0m\n\u001b[1;32m     87\u001b[0m \u001b[0;32mdef\u001b[0m \u001b[0mget_nearest_places_dict\u001b[0m\u001b[0;34m(\u001b[0m\u001b[0mplace_type\u001b[0m\u001b[0;34m:\u001b[0m\u001b[0mstr\u001b[0m\u001b[0;34m,\u001b[0m\u001b[0mcoords_list_of_lists\u001b[0m\u001b[0;34m:\u001b[0m\u001b[0mlist\u001b[0m\u001b[0;34m)\u001b[0m\u001b[0;34m:\u001b[0m\u001b[0;34m\u001b[0m\u001b[0;34m\u001b[0m\u001b[0m\n\u001b[1;32m     88\u001b[0m     \u001b[0;34m\"\"\"place type from get_wikimapia_category_map()\"\"\"\u001b[0m\u001b[0;34m\u001b[0m\u001b[0;34m\u001b[0m\u001b[0m\n\u001b[0;32m---> 89\u001b[0;31m     return [[\n\u001b[0m\u001b[1;32m     90\u001b[0m     {'id':loc.get('id'),\n\u001b[1;32m     91\u001b[0m      \u001b[0;34m'title'\u001b[0m\u001b[0;34m:\u001b[0m\u001b[0mloc\u001b[0m\u001b[0;34m.\u001b[0m\u001b[0mget\u001b[0m\u001b[0;34m(\u001b[0m\u001b[0;34m'title'\u001b[0m\u001b[0;34m)\u001b[0m \u001b[0;34m,\u001b[0m\u001b[0;34m\u001b[0m\u001b[0;34m\u001b[0m\u001b[0m\n",
            "\u001b[0;32m<ipython-input-4-bd662b607370>\u001b[0m in \u001b[0;36m<listcomp>\u001b[0;34m(.0)\u001b[0m\n\u001b[1;32m     91\u001b[0m      \u001b[0;34m'title'\u001b[0m\u001b[0;34m:\u001b[0m\u001b[0mloc\u001b[0m\u001b[0;34m.\u001b[0m\u001b[0mget\u001b[0m\u001b[0;34m(\u001b[0m\u001b[0;34m'title'\u001b[0m\u001b[0;34m)\u001b[0m \u001b[0;34m,\u001b[0m\u001b[0;34m\u001b[0m\u001b[0;34m\u001b[0m\u001b[0m\n\u001b[1;32m     92\u001b[0m      'loc_data':[loc['location'].get('lat'),loc['location'].get('lon')]} \n\u001b[0;32m---> 93\u001b[0;31m     \u001b[0;32mfor\u001b[0m \u001b[0mloc\u001b[0m \u001b[0;32min\u001b[0m \u001b[0mlist\u001b[0m\u001b[0;34m(\u001b[0m\u001b[0mAPI\u001b[0m\u001b[0;34m.\u001b[0m\u001b[0mplaces\u001b[0m\u001b[0;34m.\u001b[0m\u001b[0mnearest\u001b[0m\u001b[0;34m(\u001b[0m\u001b[0mcoords_list\u001b[0m\u001b[0;34m[\u001b[0m\u001b[0;36m1\u001b[0m\u001b[0;34m]\u001b[0m\u001b[0;34m,\u001b[0m\u001b[0mcoords_list\u001b[0m\u001b[0;34m[\u001b[0m\u001b[0;36m0\u001b[0m\u001b[0;34m]\u001b[0m\u001b[0;34m,\u001b[0m\u001b[0mcategory\u001b[0m\u001b[0;34m=\u001b[0m\u001b[0mget_wikimapia_category_map\u001b[0m\u001b[0;34m(\u001b[0m\u001b[0;34m)\u001b[0m\u001b[0;34m[\u001b[0m\u001b[0mplace_type\u001b[0m\u001b[0;34m]\u001b[0m\u001b[0;34m)\u001b[0m\u001b[0;34m)\u001b[0m\u001b[0;34m\u001b[0m\u001b[0;34m\u001b[0m\u001b[0m\n\u001b[0m\u001b[1;32m     94\u001b[0m                 ] for coords_list in coords_list_of_lists]\n\u001b[1;32m     95\u001b[0m \u001b[0;34m\u001b[0m\u001b[0m\n",
            "\u001b[0;32m~/PythonProjects/LearningKivy/env/lib/python3.8/site-packages/wikimapia_api/list_result.py\u001b[0m in \u001b[0;36m__len__\u001b[0;34m(self)\u001b[0m\n\u001b[1;32m     36\u001b[0m             \u001b[0;32mreturn\u001b[0m \u001b[0mself\u001b[0m\u001b[0;34m.\u001b[0m\u001b[0mlength\u001b[0m\u001b[0;34m\u001b[0m\u001b[0;34m\u001b[0m\u001b[0m\n\u001b[1;32m     37\u001b[0m         \u001b[0;32mif\u001b[0m \u001b[0mself\u001b[0m\u001b[0;34m.\u001b[0m\u001b[0mloaded\u001b[0m \u001b[0;34m<\u001b[0m \u001b[0;36m0\u001b[0m\u001b[0;34m:\u001b[0m\u001b[0;34m\u001b[0m\u001b[0;34m\u001b[0m\u001b[0m\n\u001b[0;32m---> 38\u001b[0;31m             \u001b[0mlength\u001b[0m \u001b[0;34m=\u001b[0m \u001b[0mself\u001b[0m\u001b[0;34m.\u001b[0m\u001b[0mapi\u001b[0m\u001b[0;34m.\u001b[0m\u001b[0mcount_array\u001b[0m\u001b[0;34m(\u001b[0m\u001b[0mself\u001b[0m\u001b[0;34m.\u001b[0m\u001b[0mfunction\u001b[0m\u001b[0;34m,\u001b[0m \u001b[0mself\u001b[0m\u001b[0;34m.\u001b[0m\u001b[0mopts\u001b[0m\u001b[0;34m)\u001b[0m\u001b[0;34m\u001b[0m\u001b[0;34m\u001b[0m\u001b[0m\n\u001b[0m\u001b[1;32m     39\u001b[0m         \u001b[0;32melse\u001b[0m\u001b[0;34m:\u001b[0m\u001b[0;34m\u001b[0m\u001b[0;34m\u001b[0m\u001b[0m\n\u001b[1;32m     40\u001b[0m             \u001b[0mlength\u001b[0m \u001b[0;34m=\u001b[0m \u001b[0mself\u001b[0m\u001b[0;34m.\u001b[0m\u001b[0mtotal\u001b[0m\u001b[0;34m\u001b[0m\u001b[0;34m\u001b[0m\u001b[0m\n",
            "\u001b[0;32m~/PythonProjects/LearningKivy/env/lib/python3.8/site-packages/wikimapia_api/api.py\u001b[0m in \u001b[0;36mcount_array\u001b[0;34m(self, function, params)\u001b[0m\n\u001b[1;32m    176\u001b[0m             \u001b[0mcount\u001b[0m \u001b[0;34m=\u001b[0m \u001b[0mparams\u001b[0m\u001b[0;34m[\u001b[0m\u001b[0;34mu'count'\u001b[0m\u001b[0;34m]\u001b[0m\u001b[0;34m\u001b[0m\u001b[0;34m\u001b[0m\u001b[0m\n\u001b[1;32m    177\u001b[0m         \u001b[0mparams\u001b[0m\u001b[0;34m[\u001b[0m\u001b[0;34mu'count'\u001b[0m\u001b[0;34m]\u001b[0m \u001b[0;34m=\u001b[0m \u001b[0;36m5\u001b[0m\u001b[0;34m\u001b[0m\u001b[0;34m\u001b[0m\u001b[0m\n\u001b[0;32m--> 178\u001b[0;31m         \u001b[0mresult\u001b[0m \u001b[0;34m=\u001b[0m \u001b[0mself\u001b[0m\u001b[0;34m.\u001b[0m\u001b[0mrequest\u001b[0m\u001b[0;34m(\u001b[0m\u001b[0mfunction\u001b[0m\u001b[0;34m,\u001b[0m \u001b[0mparams\u001b[0m\u001b[0;34m)\u001b[0m\u001b[0;34m\u001b[0m\u001b[0;34m\u001b[0m\u001b[0m\n\u001b[0m\u001b[1;32m    179\u001b[0m         \u001b[0;32mif\u001b[0m \u001b[0mcount\u001b[0m \u001b[0;32mis\u001b[0m \u001b[0;32mnot\u001b[0m \u001b[0;32mNone\u001b[0m\u001b[0;34m:\u001b[0m\u001b[0;34m\u001b[0m\u001b[0;34m\u001b[0m\u001b[0m\n\u001b[1;32m    180\u001b[0m             \u001b[0mparams\u001b[0m\u001b[0;34m[\u001b[0m\u001b[0;34mu'count'\u001b[0m\u001b[0;34m]\u001b[0m \u001b[0;34m=\u001b[0m \u001b[0mcount\u001b[0m\u001b[0;34m\u001b[0m\u001b[0;34m\u001b[0m\u001b[0m\n",
            "\u001b[0;32m~/PythonProjects/LearningKivy/env/lib/python3.8/site-packages/wikimapia_api/collection_api.py\u001b[0m in \u001b[0;36mrequest\u001b[0;34m(self, function, params)\u001b[0m\n\u001b[1;32m     21\u001b[0m     \u001b[0;32mdef\u001b[0m \u001b[0mrequest\u001b[0m\u001b[0;34m(\u001b[0m\u001b[0mself\u001b[0m\u001b[0;34m,\u001b[0m \u001b[0mfunction\u001b[0m\u001b[0;34m,\u001b[0m \u001b[0mparams\u001b[0m\u001b[0;34m=\u001b[0m\u001b[0;34m{\u001b[0m\u001b[0;34m}\u001b[0m\u001b[0;34m)\u001b[0m\u001b[0;34m:\u001b[0m\u001b[0;34m\u001b[0m\u001b[0;34m\u001b[0m\u001b[0m\n\u001b[1;32m     22\u001b[0m         \u001b[0;31m# make real request in parent class\u001b[0m\u001b[0;34m\u001b[0m\u001b[0;34m\u001b[0m\u001b[0;34m\u001b[0m\u001b[0m\n\u001b[0;32m---> 23\u001b[0;31m         \u001b[0mresult\u001b[0m \u001b[0;34m=\u001b[0m \u001b[0msuper\u001b[0m\u001b[0;34m(\u001b[0m\u001b[0mCollectionAPI\u001b[0m\u001b[0;34m,\u001b[0m \u001b[0mself\u001b[0m\u001b[0;34m)\u001b[0m\u001b[0;34m.\u001b[0m\u001b[0mrequest\u001b[0m\u001b[0;34m(\u001b[0m\u001b[0mfunction\u001b[0m\u001b[0;34m,\u001b[0m \u001b[0mparams\u001b[0m\u001b[0;34m)\u001b[0m\u001b[0;34m\u001b[0m\u001b[0;34m\u001b[0m\u001b[0m\n\u001b[0m\u001b[1;32m     24\u001b[0m         \u001b[0;31m# update cache\u001b[0m\u001b[0;34m\u001b[0m\u001b[0;34m\u001b[0m\u001b[0;34m\u001b[0m\u001b[0m\n\u001b[1;32m     25\u001b[0m         \u001b[0;32mif\u001b[0m \u001b[0misinstance\u001b[0m\u001b[0;34m(\u001b[0m\u001b[0mresult\u001b[0m\u001b[0;34m,\u001b[0m \u001b[0mdict\u001b[0m\u001b[0;34m)\u001b[0m\u001b[0;34m:\u001b[0m\u001b[0;34m\u001b[0m\u001b[0;34m\u001b[0m\u001b[0m\n",
            "\u001b[0;32m~/PythonProjects/LearningKivy/env/lib/python3.8/site-packages/wikimapia_api/api.py\u001b[0m in \u001b[0;36mrequest\u001b[0;34m(self, function, params)\u001b[0m\n\u001b[1;32m    125\u001b[0m                 API.log('GET ' + uri.netloc + request,\n\u001b[1;32m    126\u001b[0m                         level='info', src='request')\n\u001b[0;32m--> 127\u001b[0;31m                 \u001b[0mconn\u001b[0m\u001b[0;34m.\u001b[0m\u001b[0mrequest\u001b[0m\u001b[0;34m(\u001b[0m\u001b[0;34mu'GET'\u001b[0m\u001b[0;34m,\u001b[0m \u001b[0mrequest\u001b[0m\u001b[0;34m)\u001b[0m\u001b[0;34m\u001b[0m\u001b[0;34m\u001b[0m\u001b[0m\n\u001b[0m\u001b[1;32m    128\u001b[0m                 \u001b[0mresponse\u001b[0m \u001b[0;34m=\u001b[0m \u001b[0mconn\u001b[0m\u001b[0;34m.\u001b[0m\u001b[0mgetresponse\u001b[0m\u001b[0;34m(\u001b[0m\u001b[0;34m)\u001b[0m\u001b[0;34m\u001b[0m\u001b[0;34m\u001b[0m\u001b[0m\n\u001b[1;32m    129\u001b[0m             \u001b[0;32mexcept\u001b[0m \u001b[0mhttp\u001b[0m\u001b[0;34m.\u001b[0m\u001b[0mclient\u001b[0m\u001b[0;34m.\u001b[0m\u001b[0mHTTPException\u001b[0m\u001b[0;34m:\u001b[0m\u001b[0;34m\u001b[0m\u001b[0;34m\u001b[0m\u001b[0m\n",
            "\u001b[0;32m/Library/Frameworks/Python.framework/Versions/3.8/lib/python3.8/http/client.py\u001b[0m in \u001b[0;36mrequest\u001b[0;34m(self, method, url, body, headers, encode_chunked)\u001b[0m\n\u001b[1;32m   1253\u001b[0m                 encode_chunked=False):\n\u001b[1;32m   1254\u001b[0m         \u001b[0;34m\"\"\"Send a complete request to the server.\"\"\"\u001b[0m\u001b[0;34m\u001b[0m\u001b[0;34m\u001b[0m\u001b[0m\n\u001b[0;32m-> 1255\u001b[0;31m         \u001b[0mself\u001b[0m\u001b[0;34m.\u001b[0m\u001b[0m_send_request\u001b[0m\u001b[0;34m(\u001b[0m\u001b[0mmethod\u001b[0m\u001b[0;34m,\u001b[0m \u001b[0murl\u001b[0m\u001b[0;34m,\u001b[0m \u001b[0mbody\u001b[0m\u001b[0;34m,\u001b[0m \u001b[0mheaders\u001b[0m\u001b[0;34m,\u001b[0m \u001b[0mencode_chunked\u001b[0m\u001b[0;34m)\u001b[0m\u001b[0;34m\u001b[0m\u001b[0;34m\u001b[0m\u001b[0m\n\u001b[0m\u001b[1;32m   1256\u001b[0m \u001b[0;34m\u001b[0m\u001b[0m\n\u001b[1;32m   1257\u001b[0m     \u001b[0;32mdef\u001b[0m \u001b[0m_send_request\u001b[0m\u001b[0;34m(\u001b[0m\u001b[0mself\u001b[0m\u001b[0;34m,\u001b[0m \u001b[0mmethod\u001b[0m\u001b[0;34m,\u001b[0m \u001b[0murl\u001b[0m\u001b[0;34m,\u001b[0m \u001b[0mbody\u001b[0m\u001b[0;34m,\u001b[0m \u001b[0mheaders\u001b[0m\u001b[0;34m,\u001b[0m \u001b[0mencode_chunked\u001b[0m\u001b[0;34m)\u001b[0m\u001b[0;34m:\u001b[0m\u001b[0;34m\u001b[0m\u001b[0;34m\u001b[0m\u001b[0m\n",
            "\u001b[0;32m/Library/Frameworks/Python.framework/Versions/3.8/lib/python3.8/http/client.py\u001b[0m in \u001b[0;36m_send_request\u001b[0;34m(self, method, url, body, headers, encode_chunked)\u001b[0m\n\u001b[1;32m   1299\u001b[0m             \u001b[0;31m# default charset of iso-8859-1.\u001b[0m\u001b[0;34m\u001b[0m\u001b[0;34m\u001b[0m\u001b[0;34m\u001b[0m\u001b[0m\n\u001b[1;32m   1300\u001b[0m             \u001b[0mbody\u001b[0m \u001b[0;34m=\u001b[0m \u001b[0m_encode\u001b[0m\u001b[0;34m(\u001b[0m\u001b[0mbody\u001b[0m\u001b[0;34m,\u001b[0m \u001b[0;34m'body'\u001b[0m\u001b[0;34m)\u001b[0m\u001b[0;34m\u001b[0m\u001b[0;34m\u001b[0m\u001b[0m\n\u001b[0;32m-> 1301\u001b[0;31m         \u001b[0mself\u001b[0m\u001b[0;34m.\u001b[0m\u001b[0mendheaders\u001b[0m\u001b[0;34m(\u001b[0m\u001b[0mbody\u001b[0m\u001b[0;34m,\u001b[0m \u001b[0mencode_chunked\u001b[0m\u001b[0;34m=\u001b[0m\u001b[0mencode_chunked\u001b[0m\u001b[0;34m)\u001b[0m\u001b[0;34m\u001b[0m\u001b[0;34m\u001b[0m\u001b[0m\n\u001b[0m\u001b[1;32m   1302\u001b[0m \u001b[0;34m\u001b[0m\u001b[0m\n\u001b[1;32m   1303\u001b[0m     \u001b[0;32mdef\u001b[0m \u001b[0mgetresponse\u001b[0m\u001b[0;34m(\u001b[0m\u001b[0mself\u001b[0m\u001b[0;34m)\u001b[0m\u001b[0;34m:\u001b[0m\u001b[0;34m\u001b[0m\u001b[0;34m\u001b[0m\u001b[0m\n",
            "\u001b[0;32m/Library/Frameworks/Python.framework/Versions/3.8/lib/python3.8/http/client.py\u001b[0m in \u001b[0;36mendheaders\u001b[0;34m(self, message_body, encode_chunked)\u001b[0m\n\u001b[1;32m   1248\u001b[0m         \u001b[0;32melse\u001b[0m\u001b[0;34m:\u001b[0m\u001b[0;34m\u001b[0m\u001b[0;34m\u001b[0m\u001b[0m\n\u001b[1;32m   1249\u001b[0m             \u001b[0;32mraise\u001b[0m \u001b[0mCannotSendHeader\u001b[0m\u001b[0;34m(\u001b[0m\u001b[0;34m)\u001b[0m\u001b[0;34m\u001b[0m\u001b[0;34m\u001b[0m\u001b[0m\n\u001b[0;32m-> 1250\u001b[0;31m         \u001b[0mself\u001b[0m\u001b[0;34m.\u001b[0m\u001b[0m_send_output\u001b[0m\u001b[0;34m(\u001b[0m\u001b[0mmessage_body\u001b[0m\u001b[0;34m,\u001b[0m \u001b[0mencode_chunked\u001b[0m\u001b[0;34m=\u001b[0m\u001b[0mencode_chunked\u001b[0m\u001b[0;34m)\u001b[0m\u001b[0;34m\u001b[0m\u001b[0;34m\u001b[0m\u001b[0m\n\u001b[0m\u001b[1;32m   1251\u001b[0m \u001b[0;34m\u001b[0m\u001b[0m\n\u001b[1;32m   1252\u001b[0m     def request(self, method, url, body=None, headers={}, *,\n",
            "\u001b[0;32m/Library/Frameworks/Python.framework/Versions/3.8/lib/python3.8/http/client.py\u001b[0m in \u001b[0;36m_send_output\u001b[0;34m(self, message_body, encode_chunked)\u001b[0m\n\u001b[1;32m   1008\u001b[0m         \u001b[0mmsg\u001b[0m \u001b[0;34m=\u001b[0m \u001b[0;34mb\"\\r\\n\"\u001b[0m\u001b[0;34m.\u001b[0m\u001b[0mjoin\u001b[0m\u001b[0;34m(\u001b[0m\u001b[0mself\u001b[0m\u001b[0;34m.\u001b[0m\u001b[0m_buffer\u001b[0m\u001b[0;34m)\u001b[0m\u001b[0;34m\u001b[0m\u001b[0;34m\u001b[0m\u001b[0m\n\u001b[1;32m   1009\u001b[0m         \u001b[0;32mdel\u001b[0m \u001b[0mself\u001b[0m\u001b[0;34m.\u001b[0m\u001b[0m_buffer\u001b[0m\u001b[0;34m[\u001b[0m\u001b[0;34m:\u001b[0m\u001b[0;34m]\u001b[0m\u001b[0;34m\u001b[0m\u001b[0;34m\u001b[0m\u001b[0m\n\u001b[0;32m-> 1010\u001b[0;31m         \u001b[0mself\u001b[0m\u001b[0;34m.\u001b[0m\u001b[0msend\u001b[0m\u001b[0;34m(\u001b[0m\u001b[0mmsg\u001b[0m\u001b[0;34m)\u001b[0m\u001b[0;34m\u001b[0m\u001b[0;34m\u001b[0m\u001b[0m\n\u001b[0m\u001b[1;32m   1011\u001b[0m \u001b[0;34m\u001b[0m\u001b[0m\n\u001b[1;32m   1012\u001b[0m         \u001b[0;32mif\u001b[0m \u001b[0mmessage_body\u001b[0m \u001b[0;32mis\u001b[0m \u001b[0;32mnot\u001b[0m \u001b[0;32mNone\u001b[0m\u001b[0;34m:\u001b[0m\u001b[0;34m\u001b[0m\u001b[0;34m\u001b[0m\u001b[0m\n",
            "\u001b[0;32m/Library/Frameworks/Python.framework/Versions/3.8/lib/python3.8/http/client.py\u001b[0m in \u001b[0;36msend\u001b[0;34m(self, data)\u001b[0m\n\u001b[1;32m    948\u001b[0m         \u001b[0;32mif\u001b[0m \u001b[0mself\u001b[0m\u001b[0;34m.\u001b[0m\u001b[0msock\u001b[0m \u001b[0;32mis\u001b[0m \u001b[0;32mNone\u001b[0m\u001b[0;34m:\u001b[0m\u001b[0;34m\u001b[0m\u001b[0;34m\u001b[0m\u001b[0m\n\u001b[1;32m    949\u001b[0m             \u001b[0;32mif\u001b[0m \u001b[0mself\u001b[0m\u001b[0;34m.\u001b[0m\u001b[0mauto_open\u001b[0m\u001b[0;34m:\u001b[0m\u001b[0;34m\u001b[0m\u001b[0;34m\u001b[0m\u001b[0m\n\u001b[0;32m--> 950\u001b[0;31m                 \u001b[0mself\u001b[0m\u001b[0;34m.\u001b[0m\u001b[0mconnect\u001b[0m\u001b[0;34m(\u001b[0m\u001b[0;34m)\u001b[0m\u001b[0;34m\u001b[0m\u001b[0;34m\u001b[0m\u001b[0m\n\u001b[0m\u001b[1;32m    951\u001b[0m             \u001b[0;32melse\u001b[0m\u001b[0;34m:\u001b[0m\u001b[0;34m\u001b[0m\u001b[0;34m\u001b[0m\u001b[0m\n\u001b[1;32m    952\u001b[0m                 \u001b[0;32mraise\u001b[0m \u001b[0mNotConnected\u001b[0m\u001b[0;34m(\u001b[0m\u001b[0;34m)\u001b[0m\u001b[0;34m\u001b[0m\u001b[0;34m\u001b[0m\u001b[0m\n",
            "\u001b[0;32m/Library/Frameworks/Python.framework/Versions/3.8/lib/python3.8/http/client.py\u001b[0m in \u001b[0;36mconnect\u001b[0;34m(self)\u001b[0m\n\u001b[1;32m    919\u001b[0m     \u001b[0;32mdef\u001b[0m \u001b[0mconnect\u001b[0m\u001b[0;34m(\u001b[0m\u001b[0mself\u001b[0m\u001b[0;34m)\u001b[0m\u001b[0;34m:\u001b[0m\u001b[0;34m\u001b[0m\u001b[0;34m\u001b[0m\u001b[0m\n\u001b[1;32m    920\u001b[0m         \u001b[0;34m\"\"\"Connect to the host and port specified in __init__.\"\"\"\u001b[0m\u001b[0;34m\u001b[0m\u001b[0;34m\u001b[0m\u001b[0m\n\u001b[0;32m--> 921\u001b[0;31m         self.sock = self._create_connection(\n\u001b[0m\u001b[1;32m    922\u001b[0m             (self.host,self.port), self.timeout, self.source_address)\n\u001b[1;32m    923\u001b[0m         \u001b[0mself\u001b[0m\u001b[0;34m.\u001b[0m\u001b[0msock\u001b[0m\u001b[0;34m.\u001b[0m\u001b[0msetsockopt\u001b[0m\u001b[0;34m(\u001b[0m\u001b[0msocket\u001b[0m\u001b[0;34m.\u001b[0m\u001b[0mIPPROTO_TCP\u001b[0m\u001b[0;34m,\u001b[0m \u001b[0msocket\u001b[0m\u001b[0;34m.\u001b[0m\u001b[0mTCP_NODELAY\u001b[0m\u001b[0;34m,\u001b[0m \u001b[0;36m1\u001b[0m\u001b[0;34m)\u001b[0m\u001b[0;34m\u001b[0m\u001b[0;34m\u001b[0m\u001b[0m\n",
            "\u001b[0;32m/Library/Frameworks/Python.framework/Versions/3.8/lib/python3.8/socket.py\u001b[0m in \u001b[0;36mcreate_connection\u001b[0;34m(address, timeout, source_address)\u001b[0m\n\u001b[1;32m    794\u001b[0m             \u001b[0;32mif\u001b[0m \u001b[0msource_address\u001b[0m\u001b[0;34m:\u001b[0m\u001b[0;34m\u001b[0m\u001b[0;34m\u001b[0m\u001b[0m\n\u001b[1;32m    795\u001b[0m                 \u001b[0msock\u001b[0m\u001b[0;34m.\u001b[0m\u001b[0mbind\u001b[0m\u001b[0;34m(\u001b[0m\u001b[0msource_address\u001b[0m\u001b[0;34m)\u001b[0m\u001b[0;34m\u001b[0m\u001b[0;34m\u001b[0m\u001b[0m\n\u001b[0;32m--> 796\u001b[0;31m             \u001b[0msock\u001b[0m\u001b[0;34m.\u001b[0m\u001b[0mconnect\u001b[0m\u001b[0;34m(\u001b[0m\u001b[0msa\u001b[0m\u001b[0;34m)\u001b[0m\u001b[0;34m\u001b[0m\u001b[0;34m\u001b[0m\u001b[0m\n\u001b[0m\u001b[1;32m    797\u001b[0m             \u001b[0;31m# Break explicitly a reference cycle\u001b[0m\u001b[0;34m\u001b[0m\u001b[0;34m\u001b[0m\u001b[0;34m\u001b[0m\u001b[0m\n\u001b[1;32m    798\u001b[0m             \u001b[0merr\u001b[0m \u001b[0;34m=\u001b[0m \u001b[0;32mNone\u001b[0m\u001b[0;34m\u001b[0m\u001b[0;34m\u001b[0m\u001b[0m\n",
            "\u001b[0;31mKeyboardInterrupt\u001b[0m: "
          ]
        }
      ]
    },
    {
      "cell_type": "code",
      "metadata": {
        "id": "ab288d94"
      },
      "source": [
        "nearest_places_list_of_lists = list(map(lambda x: x.get('loc_data'),nearest_places_list_of_dicts))\n",
        "nearest_places_gcodes_list = [f\"{','.join(list(map(str,nearest_place_list)))},{radius}km\" \n",
        " for nearest_place_list in nearest_places_list_of_lists]"
      ],
      "id": "ab288d94",
      "execution_count": null,
      "outputs": []
    },
    {
      "cell_type": "markdown",
      "metadata": {
        "id": "02b5311d"
      },
      "source": [
        "## Get Tweets near the nearest places of interest"
      ],
      "id": "02b5311d"
    },
    {
      "cell_type": "code",
      "metadata": {
        "id": "da12290f"
      },
      "source": [
        "################################################################################\n",
        "#You can change the number of Tweets per location you'd like to retrieve below #\n",
        "#You can also add your search query.  To do a general Tweet search enter \"*\".  #\n",
        "################################################################################\n",
        "number_of_tweets_to_get = 200\n",
        "search_query = \"<add your search query>\"\n",
        "\n",
        "#------------------------------------------------------------------------------\n",
        "tweet_df = pd.concat([pd.DataFrame(\n",
        "[    {'creation_date':tweet.created_at,\n",
        "           'text':tweet.text,\n",
        "           'hashtags':tweet.entities.get('hashtags'),\n",
        "           'user_name':tweet.user.name,\n",
        "           'screen_name':tweet.user.screen_name,\n",
        "          'user_id':tweet.user.id,\n",
        "      'geo':tweet.geo,\n",
        "      'coords':tweet.coordinates,\n",
        "      'place':tweet.place,\n",
        "      'entities':tweet.user.entities,\n",
        "      'location':tweet.user.location,\n",
        "      'protected_status':tweet.user.protected,\n",
        "      'geo_enabled':tweet.user.geo_enabled\n",
        "             } \n",
        " for tweet in limit_handled(tpy.Cursor(\n",
        "     api.search,q=search_query,count=number_of_tweets_to_get,geocode=gcode).items(number_of_tweets_to_get))] \n",
        ") for gcode in nearest_places_gcodes_list]).reset_index(drop=True)\n",
        "tweet_df.head()"
      ],
      "id": "da12290f",
      "execution_count": null,
      "outputs": []
    },
    {
      "cell_type": "code",
      "metadata": {
        "id": "31ada543"
      },
      "source": [
        "#getting coordinates of general tweet locations\n",
        "tweet_df['location_coords'] = tweet_df['location'].apply(lambda x: get_address_to_coords([x],addrs_list[0]) )"
      ],
      "id": "31ada543",
      "execution_count": null,
      "outputs": []
    },
    {
      "cell_type": "code",
      "metadata": {
        "id": "ffd57281"
      },
      "source": [
        "list_of_tweets = tweet_df.text.tolist()\n",
        "tweet_location_coords_list_of_dicts = tweet_df.location_coords.tolist()"
      ],
      "id": "ffd57281",
      "execution_count": null,
      "outputs": []
    },
    {
      "cell_type": "code",
      "metadata": {
        "id": "99183228"
      },
      "source": [
        "for t in range(len(list_of_tweets)):\n",
        "    tweet_location_coords_list_of_dicts[t].update({'tweet_text':list_of_tweets[t]})    "
      ],
      "id": "99183228",
      "execution_count": null,
      "outputs": []
    },
    {
      "cell_type": "markdown",
      "metadata": {
        "id": "aa48491a"
      },
      "source": [
        "## Make map"
      ],
      "id": "aa48491a"
    },
    {
      "cell_type": "code",
      "metadata": {
        "scrolled": true,
        "id": "63697fad"
      },
      "source": [
        "################################################################################\n",
        "# Now you can see your results!                                                #\n",
        "# You can hover over each marker to see the Tweet text                         #\n",
        "################################################################################\n",
        "make_folium_map(\n",
        "    point_of_interest_coords_list_of_dicts=poi_data_list_of_dicts,\n",
        "    nearest_coords_list_of_dicts=  nearest_places_list_of_dicts,\n",
        "    tweets_coords_list_of_dicts=tweet_df.location_coords.tolist(),\n",
        ")"
      ],
      "id": "63697fad",
      "execution_count": null,
      "outputs": []
    }
  ]
}